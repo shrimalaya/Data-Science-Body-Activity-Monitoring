{
 "cells": [
  {
   "cell_type": "code",
   "execution_count": 1,
   "metadata": {},
   "outputs": [],
   "source": [
    "import sys\n",
    "import numpy as np\n",
    "import pandas as pd\n",
    "from sklearn.model_selection import train_test_split\n",
    "import matplotlib.pyplot as plt\n",
    "from sklearn.preprocessing import FunctionTransformer\n",
    "from sklearn.pipeline import make_pipeline"
   ]
  },
  {
   "cell_type": "code",
   "execution_count": 2,
   "metadata": {},
   "outputs": [],
   "source": [
    "from sklearn.neighbors import KNeighborsClassifier\n",
    "from sklearn.ensemble import RandomForestClassifier\n",
    "from sklearn.naive_bayes import GaussianNB\n",
    "from sklearn.preprocessing import StandardScaler\n",
    "from sklearn.preprocessing import MinMaxScaler\n",
    "from sklearn.decomposition import PCA\n",
    "from sklearn.cluster import KMeans\n",
    "from sklearn.ensemble import GradientBoostingClassifier\n",
    "from sklearn.svm import SVC\n",
    "\n"
   ]
  },
  {
   "cell_type": "markdown",
   "metadata": {},
   "source": [
    "### GET THE DATA"
   ]
  },
  {
   "cell_type": "code",
   "execution_count": 3,
   "metadata": {},
   "outputs": [],
   "source": [
    "walkDF = pd.read_csv(\"readyToTrain/walking\")\n",
    "walkDF['activity'] = \"walking\"\n",
    "\n",
    "runDF = pd.read_csv(\"readyToTrain/running\")\n",
    "runDF['activity'] = \"running\"\n",
    "\n",
    "standDF = pd.read_csv(\"readyToTrain/standing\")\n",
    "standDF['activity'] = \"standing\"\n",
    "\n",
    "# Merge all data into 1 dataframe\n",
    "dataDF  = pd.concat([walkDF, runDF, standDF]).reset_index(drop=True).loc[:, 'mean1AccX': 'activity']\n",
    "\n",
    "X = dataDF.loc[:, 'mean1AccX':'max1Acc-turns']\n",
    "\n",
    "y = dataDF.activity\n",
    "\n",
    "\n",
    "#dataDF"
   ]
  },
  {
   "cell_type": "markdown",
   "metadata": {},
   "source": [
    "# DATA OUTPUT"
   ]
  },
  {
   "cell_type": "code",
   "execution_count": 4,
   "metadata": {},
   "outputs": [],
   "source": [
    "OUTPUT_TEMPLATE = (\n",
    "    'Classifier:           {name}\\n'\n",
    "    'Train Score:          {train_score:.3f}\\n'\n",
    "    'Valid Score:          {valid_score:.3f}\\n'\n",
    ")\n",
    "\n",
    "\n",
    "def plot_data():\n",
    "    pass\n",
    "\n",
    "\n",
    "def outData(results):\n",
    "    print(OUTPUT_TEMPLATE.format(\n",
    "        name=results[0],\n",
    "        train_score=results[1],\n",
    "        valid_score=results[2],\n",
    "    ))"
   ]
  },
  {
   "cell_type": "code",
   "execution_count": 5,
   "metadata": {},
   "outputs": [],
   "source": [
    "def random_forest(X, y):\n",
    "    X_train, X_valid, y_train, y_valid = train_test_split(X, y)\n",
    "    \n",
    "    model = make_pipeline(\n",
    "            RandomForestClassifier(n_estimators=50, max_depth=5,min_samples_leaf=2)\n",
    "        ).fit(X_train, y_train)\n",
    "    \n",
    "    return [model.score(X_train, y_train), model.score(X_valid, y_valid), model.predict(X_valid)]"
   ]
  },
  {
   "cell_type": "code",
   "execution_count": 6,
   "metadata": {},
   "outputs": [],
   "source": [
    "def kn_neighbors(X, y):\n",
    "    X_train, X_valid, y_train, y_valid = train_test_split(X, y)\n",
    "    \n",
    "    model = make_pipeline(\n",
    "            MinMaxScaler(),\n",
    "            KNeighborsClassifier(n_neighbors=3)\n",
    "        ).fit(X_train, y_train)\n",
    "    \n",
    "    return [model.score(X_train, y_train), model.score(X_valid, y_valid), model.predict(X_valid)]"
   ]
  },
  {
   "cell_type": "code",
   "execution_count": 7,
   "metadata": {},
   "outputs": [],
   "source": [
    "def naive_bayes(X, y):\n",
    "    X_train, X_valid, y_train, y_valid = train_test_split(X, y)\n",
    "    \n",
    "    model = make_pipeline(\n",
    "            StandardScaler(),\n",
    "            GaussianNB()\n",
    "        ).fit(X_train, y_train)\n",
    "    \n",
    "    return [model.score(X_train, y_train), model.score(X_valid, y_valid), model.predict(X_valid)]"
   ]
  },
  {
   "cell_type": "code",
   "execution_count": 8,
   "metadata": {},
   "outputs": [],
   "source": [
    "def linear_regressor(X, y):\n",
    "    X_train, X_valid, y_train, y_valid = train_test_split(X, y)\n",
    "    \n",
    "    model = make_pipeline(\n",
    "            LinearRegression(fit_intercept=False)\n",
    "        ).fit(X_train, y_train)\n",
    "    \n",
    "    return [model.score(X_train, y_train), model.score(X_valid, y_valid), model.predict(X_valid)]"
   ]
  },
  {
   "cell_type": "code",
   "execution_count": 9,
   "metadata": {},
   "outputs": [],
   "source": [
    "def gradient_boosting(X, y):\n",
    "    X_train, X_valid, y_train, y_valid = train_test_split(X, y)\n",
    "    \n",
    "    model = make_pipeline(\n",
    "            GradientBoostingClassifier(n_estimators=90, max_depth=10, min_samples_leaf=0.1)\n",
    "        ).fit(X_train, y_train)\n",
    "    \n",
    "    return [model.score(X_train, y_train), model.score(X_valid, y_valid), model.predict(X_valid)]"
   ]
  },
  {
   "cell_type": "code",
   "execution_count": 10,
   "metadata": {},
   "outputs": [],
   "source": [
    "def svc_classifier(X, y):\n",
    "    X_train, X_valid, y_train, y_valid = train_test_split(X, y)\n",
    "    \n",
    "    model = make_pipeline(\n",
    "            SVC(kernel='linear', C=2.0, probability=True)\n",
    "        ).fit(X_train, y_train)\n",
    "    \n",
    "    return [model.score(X_train, y_train), model.score(X_valid, y_valid), model.predict(X_valid)]"
   ]
  },
  {
   "cell_type": "markdown",
   "metadata": {},
   "source": [
    "# Modeling and Training the data"
   ]
  },
  {
   "cell_type": "code",
   "execution_count": 11,
   "metadata": {},
   "outputs": [
    {
     "data": {
      "text/plain": [
       "[1.0,\n",
       " 0.875,\n",
       " array(['standing', 'standing', 'walking', 'walking', 'walking', 'running',\n",
       "        'running', 'running'], dtype=object)]"
      ]
     },
     "execution_count": 11,
     "metadata": {},
     "output_type": "execute_result"
    }
   ],
   "source": [
    "result = random_forest(X, y)\n",
    "result"
   ]
  },
  {
   "cell_type": "code",
   "execution_count": 12,
   "metadata": {},
   "outputs": [
    {
     "data": {
      "text/plain": [
       "[0.7727272727272727,\n",
       " 0.875,\n",
       " array(['running', 'running', 'walking', 'standing', 'standing', 'walking',\n",
       "        'walking', 'standing'], dtype=object)]"
      ]
     },
     "execution_count": 12,
     "metadata": {},
     "output_type": "execute_result"
    }
   ],
   "source": [
    "result = kn_neighbors(X, y)\n",
    "result"
   ]
  },
  {
   "cell_type": "code",
   "execution_count": 13,
   "metadata": {},
   "outputs": [
    {
     "data": {
      "text/plain": [
       "[1.0,\n",
       " 1.0,\n",
       " array(['standing', 'walking', 'standing', 'walking', 'running', 'walking',\n",
       "        'walking', 'running'], dtype=object)]"
      ]
     },
     "execution_count": 13,
     "metadata": {},
     "output_type": "execute_result"
    }
   ],
   "source": [
    "result = gradient_boosting(X, y)\n",
    "result"
   ]
  },
  {
   "cell_type": "code",
   "execution_count": 14,
   "metadata": {},
   "outputs": [
    {
     "data": {
      "text/plain": [
       "[1.0,\n",
       " 0.875,\n",
       " array(['running', 'running', 'standing', 'running', 'running', 'running',\n",
       "        'standing', 'standing'], dtype=object)]"
      ]
     },
     "execution_count": 14,
     "metadata": {},
     "output_type": "execute_result"
    }
   ],
   "source": [
    "result = svc_classifier(X, y)\n",
    "result"
   ]
  }
 ],
 "metadata": {
  "kernelspec": {
   "display_name": "Python 3",
   "language": "python",
   "name": "python3"
  },
  "language_info": {
   "codemirror_mode": {
    "name": "ipython",
    "version": 3
   },
   "file_extension": ".py",
   "mimetype": "text/x-python",
   "name": "python",
   "nbconvert_exporter": "python",
   "pygments_lexer": "ipython3",
   "version": "3.7.6"
  }
 },
 "nbformat": 4,
 "nbformat_minor": 4
}
