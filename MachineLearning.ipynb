{
 "cells": [
  {
   "cell_type": "code",
   "execution_count": 1,
   "metadata": {},
   "outputs": [],
   "source": [
    "import sys\n",
    "import numpy as np\n",
    "import pandas as pd\n",
    "from sklearn.model_selection import train_test_split\n",
    "import matplotlib.pyplot as plt\n",
    "from sklearn.preprocessing import FunctionTransformer\n",
    "from sklearn.pipeline import make_pipeline\n",
    "from sklearn.metrics import classification_report\n",
    "from matplotlib import cm\n"
   ]
  },
  {
   "cell_type": "code",
   "execution_count": 2,
   "metadata": {},
   "outputs": [],
   "source": [
    "from sklearn.neighbors import KNeighborsClassifier\n",
    "from sklearn.ensemble import RandomForestClassifier\n",
    "from sklearn.naive_bayes import GaussianNB\n",
    "from sklearn.preprocessing import StandardScaler\n",
    "from sklearn.preprocessing import MinMaxScaler\n",
    "from sklearn.decomposition import PCA\n",
    "from sklearn.svm import SVC\n",
    "from sklearn.cluster import KMeans\n",
    "from sklearn.ensemble import GradientBoostingClassifier\n",
    "from sklearn.svm import SVC\n",
    "from sklearn.neural_network import MLPClassifier\n",
    "from sklearn.tree import DecisionTreeClassifier"
   ]
  },
  {
   "cell_type": "code",
   "execution_count": null,
   "metadata": {},
   "outputs": [],
   "source": []
  },
  {
   "cell_type": "markdown",
   "metadata": {},
   "source": [
    "### GET THE DATA"
   ]
  },
  {
   "cell_type": "code",
   "execution_count": 3,
   "metadata": {},
   "outputs": [
    {
     "data": {
      "text/html": [
       "<div>\n",
       "<style scoped>\n",
       "    .dataframe tbody tr th:only-of-type {\n",
       "        vertical-align: middle;\n",
       "    }\n",
       "\n",
       "    .dataframe tbody tr th {\n",
       "        vertical-align: top;\n",
       "    }\n",
       "\n",
       "    .dataframe thead th {\n",
       "        text-align: right;\n",
       "    }\n",
       "</style>\n",
       "<table border=\"1\" class=\"dataframe\">\n",
       "  <thead>\n",
       "    <tr style=\"text-align: right;\">\n",
       "      <th></th>\n",
       "      <th>mean1AccX</th>\n",
       "      <th>mean1AccY</th>\n",
       "      <th>mean1AccZ</th>\n",
       "      <th>mean1Acc-old</th>\n",
       "      <th>mean1Acc-turns</th>\n",
       "      <th>min1AccX</th>\n",
       "      <th>min1AccY</th>\n",
       "      <th>min1AccZ</th>\n",
       "      <th>min1Acc-old</th>\n",
       "      <th>min1Acc-turns</th>\n",
       "      <th>max1AccX</th>\n",
       "      <th>max1AccY</th>\n",
       "      <th>max1AccZ</th>\n",
       "      <th>max1Acc-old</th>\n",
       "      <th>max1Acc-turns</th>\n",
       "    </tr>\n",
       "  </thead>\n",
       "  <tbody>\n",
       "    <tr>\n",
       "      <th>0</th>\n",
       "      <td>-0.099493</td>\n",
       "      <td>-0.465791</td>\n",
       "      <td>-0.856727</td>\n",
       "      <td>1.062917</td>\n",
       "      <td>0.057808</td>\n",
       "      <td>-1.334384</td>\n",
       "      <td>-0.717487</td>\n",
       "      <td>-1.159709</td>\n",
       "      <td>0.385</td>\n",
       "      <td>0.000030</td>\n",
       "      <td>0.938393</td>\n",
       "      <td>1.276115</td>\n",
       "      <td>0.038427</td>\n",
       "      <td>2.843</td>\n",
       "      <td>0.745250</td>\n",
       "    </tr>\n",
       "    <tr>\n",
       "      <th>1</th>\n",
       "      <td>0.057198</td>\n",
       "      <td>-0.669784</td>\n",
       "      <td>-0.831493</td>\n",
       "      <td>1.139026</td>\n",
       "      <td>0.074913</td>\n",
       "      <td>-1.879898</td>\n",
       "      <td>-0.883859</td>\n",
       "      <td>-1.168634</td>\n",
       "      <td>0.359</td>\n",
       "      <td>0.000077</td>\n",
       "      <td>0.352524</td>\n",
       "      <td>0.984944</td>\n",
       "      <td>0.192178</td>\n",
       "      <td>2.212</td>\n",
       "      <td>1.402344</td>\n",
       "    </tr>\n",
       "    <tr>\n",
       "      <th>2</th>\n",
       "      <td>-0.038519</td>\n",
       "      <td>-0.465664</td>\n",
       "      <td>-0.897671</td>\n",
       "      <td>1.078700</td>\n",
       "      <td>0.029025</td>\n",
       "      <td>-1.341853</td>\n",
       "      <td>-0.831175</td>\n",
       "      <td>-1.162999</td>\n",
       "      <td>0.262</td>\n",
       "      <td>0.000568</td>\n",
       "      <td>0.541564</td>\n",
       "      <td>1.422448</td>\n",
       "      <td>-0.143941</td>\n",
       "      <td>1.664</td>\n",
       "      <td>0.395674</td>\n",
       "    </tr>\n",
       "    <tr>\n",
       "      <th>3</th>\n",
       "      <td>-0.052338</td>\n",
       "      <td>-0.416041</td>\n",
       "      <td>-0.815729</td>\n",
       "      <td>0.976863</td>\n",
       "      <td>0.020162</td>\n",
       "      <td>-1.297735</td>\n",
       "      <td>-0.608330</td>\n",
       "      <td>-1.245164</td>\n",
       "      <td>0.440</td>\n",
       "      <td>0.000062</td>\n",
       "      <td>0.187806</td>\n",
       "      <td>0.969483</td>\n",
       "      <td>0.308912</td>\n",
       "      <td>2.063</td>\n",
       "      <td>0.246721</td>\n",
       "    </tr>\n",
       "    <tr>\n",
       "      <th>4</th>\n",
       "      <td>-0.040121</td>\n",
       "      <td>-0.429703</td>\n",
       "      <td>-0.741593</td>\n",
       "      <td>0.984209</td>\n",
       "      <td>0.027517</td>\n",
       "      <td>-1.554315</td>\n",
       "      <td>-0.799485</td>\n",
       "      <td>-1.456386</td>\n",
       "      <td>0.335</td>\n",
       "      <td>0.000010</td>\n",
       "      <td>0.363297</td>\n",
       "      <td>0.925566</td>\n",
       "      <td>0.373531</td>\n",
       "      <td>1.971</td>\n",
       "      <td>0.395730</td>\n",
       "    </tr>\n",
       "    <tr>\n",
       "      <th>...</th>\n",
       "      <td>...</td>\n",
       "      <td>...</td>\n",
       "      <td>...</td>\n",
       "      <td>...</td>\n",
       "      <td>...</td>\n",
       "      <td>...</td>\n",
       "      <td>...</td>\n",
       "      <td>...</td>\n",
       "      <td>...</td>\n",
       "      <td>...</td>\n",
       "      <td>...</td>\n",
       "      <td>...</td>\n",
       "      <td>...</td>\n",
       "      <td>...</td>\n",
       "      <td>...</td>\n",
       "    </tr>\n",
       "    <tr>\n",
       "      <th>85</th>\n",
       "      <td>-0.010691</td>\n",
       "      <td>-0.197479</td>\n",
       "      <td>-0.977073</td>\n",
       "      <td>0.997298</td>\n",
       "      <td>0.002903</td>\n",
       "      <td>-0.084777</td>\n",
       "      <td>-0.298335</td>\n",
       "      <td>-1.014310</td>\n",
       "      <td>0.853</td>\n",
       "      <td>0.000001</td>\n",
       "      <td>0.060777</td>\n",
       "      <td>-0.164927</td>\n",
       "      <td>-0.903001</td>\n",
       "      <td>1.105</td>\n",
       "      <td>0.017582</td>\n",
       "    </tr>\n",
       "    <tr>\n",
       "      <th>86</th>\n",
       "      <td>-0.051422</td>\n",
       "      <td>-0.253031</td>\n",
       "      <td>-0.962816</td>\n",
       "      <td>0.997493</td>\n",
       "      <td>0.012554</td>\n",
       "      <td>-0.122456</td>\n",
       "      <td>-0.327355</td>\n",
       "      <td>-1.039186</td>\n",
       "      <td>0.852</td>\n",
       "      <td>0.000014</td>\n",
       "      <td>0.060811</td>\n",
       "      <td>-0.212331</td>\n",
       "      <td>-0.881584</td>\n",
       "      <td>1.135</td>\n",
       "      <td>0.029266</td>\n",
       "    </tr>\n",
       "    <tr>\n",
       "      <th>87</th>\n",
       "      <td>0.034178</td>\n",
       "      <td>-0.281518</td>\n",
       "      <td>-0.955725</td>\n",
       "      <td>0.997426</td>\n",
       "      <td>0.009463</td>\n",
       "      <td>-0.040105</td>\n",
       "      <td>-0.351938</td>\n",
       "      <td>-0.989235</td>\n",
       "      <td>0.795</td>\n",
       "      <td>0.000016</td>\n",
       "      <td>0.134340</td>\n",
       "      <td>-0.245927</td>\n",
       "      <td>-0.755666</td>\n",
       "      <td>1.070</td>\n",
       "      <td>0.043126</td>\n",
       "    </tr>\n",
       "    <tr>\n",
       "      <th>88</th>\n",
       "      <td>-0.048716</td>\n",
       "      <td>-0.240942</td>\n",
       "      <td>-0.966212</td>\n",
       "      <td>0.997087</td>\n",
       "      <td>0.011312</td>\n",
       "      <td>-0.075867</td>\n",
       "      <td>-0.254398</td>\n",
       "      <td>-0.995577</td>\n",
       "      <td>0.891</td>\n",
       "      <td>0.008123</td>\n",
       "      <td>-0.034202</td>\n",
       "      <td>-0.221819</td>\n",
       "      <td>-0.878869</td>\n",
       "      <td>1.075</td>\n",
       "      <td>0.016347</td>\n",
       "    </tr>\n",
       "    <tr>\n",
       "      <th>89</th>\n",
       "      <td>-0.027333</td>\n",
       "      <td>-0.248275</td>\n",
       "      <td>-0.964983</td>\n",
       "      <td>0.997377</td>\n",
       "      <td>0.006883</td>\n",
       "      <td>-0.096187</td>\n",
       "      <td>-0.351653</td>\n",
       "      <td>-1.094351</td>\n",
       "      <td>0.875</td>\n",
       "      <td>0.000048</td>\n",
       "      <td>0.076337</td>\n",
       "      <td>-0.212529</td>\n",
       "      <td>-0.817945</td>\n",
       "      <td>1.375</td>\n",
       "      <td>0.024529</td>\n",
       "    </tr>\n",
       "  </tbody>\n",
       "</table>\n",
       "<p>90 rows × 15 columns</p>\n",
       "</div>"
      ],
      "text/plain": [
       "    mean1AccX  mean1AccY  mean1AccZ  mean1Acc-old  mean1Acc-turns  min1AccX  \\\n",
       "0   -0.099493  -0.465791  -0.856727      1.062917        0.057808 -1.334384   \n",
       "1    0.057198  -0.669784  -0.831493      1.139026        0.074913 -1.879898   \n",
       "2   -0.038519  -0.465664  -0.897671      1.078700        0.029025 -1.341853   \n",
       "3   -0.052338  -0.416041  -0.815729      0.976863        0.020162 -1.297735   \n",
       "4   -0.040121  -0.429703  -0.741593      0.984209        0.027517 -1.554315   \n",
       "..        ...        ...        ...           ...             ...       ...   \n",
       "85  -0.010691  -0.197479  -0.977073      0.997298        0.002903 -0.084777   \n",
       "86  -0.051422  -0.253031  -0.962816      0.997493        0.012554 -0.122456   \n",
       "87   0.034178  -0.281518  -0.955725      0.997426        0.009463 -0.040105   \n",
       "88  -0.048716  -0.240942  -0.966212      0.997087        0.011312 -0.075867   \n",
       "89  -0.027333  -0.248275  -0.964983      0.997377        0.006883 -0.096187   \n",
       "\n",
       "    min1AccY  min1AccZ  min1Acc-old  min1Acc-turns  max1AccX  max1AccY  \\\n",
       "0  -0.717487 -1.159709        0.385       0.000030  0.938393  1.276115   \n",
       "1  -0.883859 -1.168634        0.359       0.000077  0.352524  0.984944   \n",
       "2  -0.831175 -1.162999        0.262       0.000568  0.541564  1.422448   \n",
       "3  -0.608330 -1.245164        0.440       0.000062  0.187806  0.969483   \n",
       "4  -0.799485 -1.456386        0.335       0.000010  0.363297  0.925566   \n",
       "..       ...       ...          ...            ...       ...       ...   \n",
       "85 -0.298335 -1.014310        0.853       0.000001  0.060777 -0.164927   \n",
       "86 -0.327355 -1.039186        0.852       0.000014  0.060811 -0.212331   \n",
       "87 -0.351938 -0.989235        0.795       0.000016  0.134340 -0.245927   \n",
       "88 -0.254398 -0.995577        0.891       0.008123 -0.034202 -0.221819   \n",
       "89 -0.351653 -1.094351        0.875       0.000048  0.076337 -0.212529   \n",
       "\n",
       "    max1AccZ  max1Acc-old  max1Acc-turns  \n",
       "0   0.038427        2.843       0.745250  \n",
       "1   0.192178        2.212       1.402344  \n",
       "2  -0.143941        1.664       0.395674  \n",
       "3   0.308912        2.063       0.246721  \n",
       "4   0.373531        1.971       0.395730  \n",
       "..       ...          ...            ...  \n",
       "85 -0.903001        1.105       0.017582  \n",
       "86 -0.881584        1.135       0.029266  \n",
       "87 -0.755666        1.070       0.043126  \n",
       "88 -0.878869        1.075       0.016347  \n",
       "89 -0.817945        1.375       0.024529  \n",
       "\n",
       "[90 rows x 15 columns]"
      ]
     },
     "execution_count": 3,
     "metadata": {},
     "output_type": "execute_result"
    }
   ],
   "source": [
    "walkDF = pd.read_csv(\"data/readyToTrain/Walking\")\n",
    "walkDF['activity'] = 1\n",
    "\n",
    "runDF = pd.read_csv(\"data/readyToTrain/Running\")\n",
    "runDF['activity'] = 2\n",
    "\n",
    "standDF = pd.read_csv(\"data/readyToTrain/Standing\")\n",
    "standDF['activity'] = 0\n",
    "\n",
    "# Merge all data into 1 dataframe\n",
    "dataDF  = pd.concat([walkDF, runDF, standDF]).reset_index(drop=True).loc[:, 'mean1AccX': 'activity']\n",
    "\n",
    "X = dataDF.loc[:,'mean1AccX':'max1Acc-turns']\n",
    "# X = dataDF.loc[:,['mean1AccX','mean1AccY', 'mean1AccZ']]\n",
    "\n",
    "y = dataDF.activity\n",
    "\n",
    "\n",
    "X"
   ]
  },
  {
   "cell_type": "code",
   "execution_count": null,
   "metadata": {},
   "outputs": [],
   "source": []
  },
  {
   "cell_type": "markdown",
   "metadata": {},
   "source": [
    "# DATA OUTPUT"
   ]
  },
  {
   "cell_type": "code",
   "execution_count": 4,
   "metadata": {},
   "outputs": [],
   "source": [
    "OUTPUT_TEMPLATE = (\n",
    "    'Classifier:           {name}\\n'\n",
    "    'Train Score:          {train_score:.3f}\\n'\n",
    "    'Valid Score:          {valid_score:.3f}\\n'\n",
    ")\n",
    "\n",
    "\n",
    "def plot_data(model, X, y=None):\n",
    "#     default_cmap = cm.get_cmap('rainbow')\n",
    "#     width = 400\n",
    "#     height = 400\n",
    "#     cmap = default_cmap\n",
    "#     x0 = X.iloc[:, 0]\n",
    "#     y0 = X.iloc[:, 1]\n",
    "#     xg = np.linspace(x0.min(), x0.max(), width)\n",
    "#     yg = np.linspace(y0.min(), y0.max(), height)\n",
    "#     xx, yy = np.meshgrid(xg, yg)\n",
    "#     X_grid = np.vstack([xx.ravel(), yy.ravel()]).T\n",
    "#     y_grid = model.predict(X_grid)\n",
    "#     plt.contourf(xx, yy, y_grid.reshape((height, width)), cmap=cmap)\n",
    "#     if y is not None:\n",
    "#         plt.scatter(x0, y0, c=y, cmap=cmap, edgecolor='k')\n",
    "    \n",
    "#     plt.show()\n",
    "    pass\n",
    "\n",
    "\n",
    "def outData(results):\n",
    "    print(OUTPUT_TEMPLATE.format(\n",
    "        name=results[0],\n",
    "        train_score=results[1],\n",
    "        valid_score=results[2],\n",
    "    ))"
   ]
  },
  {
   "cell_type": "code",
   "execution_count": 5,
   "metadata": {},
   "outputs": [],
   "source": [
    "def random_forest(X, y):\n",
    "\n",
    "    X_train, X_valid, y_train, y_valid = train_test_split(X, y)\n",
    "    \n",
    "    model = make_pipeline(\n",
    "            RandomForestClassifier(n_estimators=50, max_depth=5,min_samples_leaf=2)\n",
    "        ).fit(X_train, y_train)\n",
    "    \n",
    "    print(classification_report(y_valid, model.predict(X_valid)))\n",
    "    \n",
    "    plot_data(model, X, y)\n",
    "    \n",
    "    return [model.score(X_train, y_train), model.score(X_valid, y_valid), model.predict(X_valid)]"
   ]
  },
  {
   "cell_type": "code",
   "execution_count": 6,
   "metadata": {},
   "outputs": [],
   "source": [
    "def kn_neighbors(X, y):\n",
    "    \n",
    "    X_train, X_valid, y_train, y_valid = train_test_split(X, y)\n",
    "    \n",
    "    model = make_pipeline(\n",
    "            MinMaxScaler(),\n",
    "            KNeighborsClassifier(n_neighbors=3)\n",
    "        ).fit(X_train, y_train)\n",
    "    \n",
    "    print(classification_report(y_valid, model.predict(X_valid)))\n",
    "    plot_data(model, X, y)\n",
    "    \n",
    "    return [model.score(X_train, y_train), model.score(X_valid, y_valid), model.predict(X_valid)]"
   ]
  },
  {
   "cell_type": "code",
   "execution_count": 7,
   "metadata": {},
   "outputs": [],
   "source": [
    "def naive_bayes(X, y):\n",
    "    X_train, X_valid, y_train, y_valid = train_test_split(X, y)\n",
    "    \n",
    "    model = make_pipeline(\n",
    "            StandardScaler(),\n",
    "            GaussianNB()\n",
    "        ).fit(X_train, y_train)        \n",
    "    \n",
    "    print(classification_report(y_valid, model.predict(X_valid)))\n",
    "    plot_data(model, X, y)\n",
    "    \n",
    "    return [model.score(X_train, y_train), model.score(X_valid, y_valid), model.predict(X_valid)]"
   ]
  },
  {
   "cell_type": "code",
   "execution_count": 8,
   "metadata": {},
   "outputs": [],
   "source": [
    "def neural_nets(X, y):\n",
    "    X_train, X_valid, y_train, y_valid = train_test_split(X, y)\n",
    "    \n",
    "    model = make_pipeline(\n",
    "            MLPClassifier(solver='lbfgs', hidden_layer_sizes=())\n",
    "        ).fit(X_train, y_train)\n",
    "    \n",
    "    print(classification_report(y_valid, model.predict(X_valid)))\n",
    "    plot_data(model, X, y)\n",
    "    \n",
    "    return [model.score(X_train, y_train), model.score(X_valid, y_valid), model.predict(X_valid)]"
   ]
  },
  {
   "cell_type": "code",
   "execution_count": 9,
   "metadata": {},
   "outputs": [],
   "source": [
    "def gradient_boosting(X, y):\n",
    "    X_train, X_valid, y_train, y_valid = train_test_split(X, y)\n",
    "    \n",
    "    model = make_pipeline(\n",
    "            GradientBoostingClassifier(n_estimators=50, max_depth=5, min_samples_leaf=0.3)\n",
    "        ).fit(X_train, y_train)\n",
    "    \n",
    "    print(classification_report(y_valid, model.predict(X_valid)))\n",
    "    plot_data(model, X, y)\n",
    "    \n",
    "    return [model.score(X_train, y_train), model.score(X_valid, y_valid), model.predict(X_valid)]"
   ]
  },
  {
   "cell_type": "code",
   "execution_count": 10,
   "metadata": {},
   "outputs": [],
   "source": [
    "def svc_classifier(X, y):\n",
    "    X_train, X_valid, y_train, y_valid = train_test_split(X, y)\n",
    "    \n",
    "    model = make_pipeline(\n",
    "            SVC(kernel='linear', C=2.0, probability=True)\n",
    "        ).fit(X_train, y_train)\n",
    "    \n",
    "    print(classification_report(y_valid, model.predict(X_valid)))\n",
    "    plot_data(model, X, y)\n",
    "    \n",
    "    return [model.score(X_train, y_train), model.score(X_valid, y_valid), model.predict(X_valid)]"
   ]
  },
  {
   "cell_type": "code",
   "execution_count": 11,
   "metadata": {},
   "outputs": [],
   "source": [
    "def decision_tree(X, y):\n",
    "    X_train, X_valid, y_train, y_valid = train_test_split(X, y)\n",
    "    \n",
    "    model = make_pipeline(\n",
    "            DecisionTreeClassifier(max_depth=15, min_samples_leaf=4)\n",
    "        ).fit(X_train, y_train)\n",
    "    \n",
    "    print(classification_report(y_valid, model.predict(X_valid)))\n",
    "    plot_data(model, X, y)\n",
    "    \n",
    "    return [model.score(X_train, y_train), model.score(X_valid, y_valid), model.predict(X_valid)]"
   ]
  },
  {
   "cell_type": "code",
   "execution_count": 12,
   "metadata": {},
   "outputs": [],
   "source": [
    "def pca(X, y):\n",
    "    X_train, X_valid, y_train, y_valid = train_test_split(X, y)\n",
    "    \n",
    "    model = make_pipeline(\n",
    "            StandardScaler(),\n",
    "            PCA(2),\n",
    "            SVC(kernel='linear', C=2.0)\n",
    "        ).fit(X_train, y_train)\n",
    "    \n",
    "    print(classification_report(y_valid, model.predict(X_valid)))\n",
    "    plot_data(model, X, y)\n",
    "    \n",
    "    return [model.score(X_train, y_train), model.score(X_valid, y_valid), model.predict(X_valid)]"
   ]
  },
  {
   "cell_type": "markdown",
   "metadata": {},
   "source": [
    "# Modeling and Training the data"
   ]
  },
  {
   "cell_type": "code",
   "execution_count": 13,
   "metadata": {},
   "outputs": [
    {
     "name": "stdout",
     "output_type": "stream",
     "text": [
      "              precision    recall  f1-score   support\n",
      "\n",
      "           0       1.00      1.00      1.00         4\n",
      "           1       1.00      0.80      0.89        10\n",
      "           2       0.82      1.00      0.90         9\n",
      "\n",
      "    accuracy                           0.91        23\n",
      "   macro avg       0.94      0.93      0.93        23\n",
      "weighted avg       0.93      0.91      0.91        23\n",
      "\n"
     ]
    },
    {
     "data": {
      "text/plain": [
       "[1.0,\n",
       " 0.9130434782608695,\n",
       " array([1, 2, 1, 2, 1, 2, 2, 2, 1, 0, 1, 2, 2, 0, 0, 2, 1, 1, 2, 1, 2, 0,\n",
       "        2])]"
      ]
     },
     "execution_count": 13,
     "metadata": {},
     "output_type": "execute_result"
    }
   ],
   "source": [
    "np.random.seed(12121)\n",
    "result = random_forest(X, y)\n",
    "result"
   ]
  },
  {
   "cell_type": "code",
   "execution_count": 14,
   "metadata": {},
   "outputs": [
    {
     "name": "stdout",
     "output_type": "stream",
     "text": [
      "              precision    recall  f1-score   support\n",
      "\n",
      "           0       0.67      1.00      0.80         4\n",
      "           1       0.89      0.80      0.84        10\n",
      "           2       1.00      0.89      0.94         9\n",
      "\n",
      "    accuracy                           0.87        23\n",
      "   macro avg       0.85      0.90      0.86        23\n",
      "weighted avg       0.89      0.87      0.87        23\n",
      "\n"
     ]
    },
    {
     "data": {
      "text/plain": [
       "[0.9701492537313433,\n",
       " 0.8695652173913043,\n",
       " array([0, 2, 1, 2, 1, 1, 1, 1, 1, 0, 1, 2, 2, 0, 0, 2, 1, 0, 2, 1, 2, 0,\n",
       "        2])]"
      ]
     },
     "execution_count": 14,
     "metadata": {},
     "output_type": "execute_result"
    }
   ],
   "source": [
    "np.random.seed(12121)\n",
    "result = kn_neighbors(X, y)\n",
    "result"
   ]
  },
  {
   "cell_type": "code",
   "execution_count": 15,
   "metadata": {},
   "outputs": [
    {
     "name": "stdout",
     "output_type": "stream",
     "text": [
      "              precision    recall  f1-score   support\n",
      "\n",
      "           0       1.00      1.00      1.00         4\n",
      "           1       1.00      0.90      0.95        10\n",
      "           2       0.90      1.00      0.95         9\n",
      "\n",
      "    accuracy                           0.96        23\n",
      "   macro avg       0.97      0.97      0.96        23\n",
      "weighted avg       0.96      0.96      0.96        23\n",
      "\n"
     ]
    },
    {
     "data": {
      "text/plain": [
       "[1.0,\n",
       " 0.9565217391304348,\n",
       " array([1, 2, 1, 2, 1, 1, 2, 2, 1, 0, 1, 2, 2, 0, 0, 2, 1, 1, 2, 1, 2, 0,\n",
       "        2])]"
      ]
     },
     "execution_count": 15,
     "metadata": {},
     "output_type": "execute_result"
    }
   ],
   "source": [
    "np.random.seed(12121)\n",
    "result = gradient_boosting(X, y)\n",
    "result"
   ]
  },
  {
   "cell_type": "code",
   "execution_count": 16,
   "metadata": {},
   "outputs": [
    {
     "name": "stdout",
     "output_type": "stream",
     "text": [
      "              precision    recall  f1-score   support\n",
      "\n",
      "           0       0.80      1.00      0.89         4\n",
      "           1       1.00      0.80      0.89        10\n",
      "           2       0.90      1.00      0.95         9\n",
      "\n",
      "    accuracy                           0.91        23\n",
      "   macro avg       0.90      0.93      0.91        23\n",
      "weighted avg       0.93      0.91      0.91        23\n",
      "\n"
     ]
    },
    {
     "data": {
      "text/plain": [
       "[1.0,\n",
       " 0.9130434782608695,\n",
       " array([0, 2, 1, 2, 1, 2, 2, 1, 1, 0, 1, 2, 2, 0, 0, 2, 1, 1, 2, 1, 2, 0,\n",
       "        2])]"
      ]
     },
     "execution_count": 16,
     "metadata": {},
     "output_type": "execute_result"
    }
   ],
   "source": [
    "np.random.seed(12121)\n",
    "result = svc_classifier(X, y)\n",
    "result"
   ]
  },
  {
   "cell_type": "code",
   "execution_count": 17,
   "metadata": {},
   "outputs": [
    {
     "name": "stdout",
     "output_type": "stream",
     "text": [
      "              precision    recall  f1-score   support\n",
      "\n",
      "           0       0.80      1.00      0.89         4\n",
      "           1       1.00      0.70      0.82        10\n",
      "           2       0.82      1.00      0.90         9\n",
      "\n",
      "    accuracy                           0.87        23\n",
      "   macro avg       0.87      0.90      0.87        23\n",
      "weighted avg       0.89      0.87      0.86        23\n",
      "\n"
     ]
    },
    {
     "data": {
      "text/plain": [
       "[1.0,\n",
       " 0.8695652173913043,\n",
       " array([0, 2, 1, 2, 1, 2, 2, 1, 1, 0, 1, 2, 2, 0, 0, 2, 1, 2, 2, 1, 2, 0,\n",
       "        2])]"
      ]
     },
     "execution_count": 17,
     "metadata": {},
     "output_type": "execute_result"
    }
   ],
   "source": [
    "np.random.seed(12121)\n",
    "result = neural_nets(X, y)\n",
    "result"
   ]
  },
  {
   "cell_type": "code",
   "execution_count": 18,
   "metadata": {},
   "outputs": [
    {
     "name": "stdout",
     "output_type": "stream",
     "text": [
      "              precision    recall  f1-score   support\n",
      "\n",
      "           0       1.00      1.00      1.00         4\n",
      "           1       1.00      0.60      0.75        10\n",
      "           2       0.69      1.00      0.82         9\n",
      "\n",
      "    accuracy                           0.83        23\n",
      "   macro avg       0.90      0.87      0.86        23\n",
      "weighted avg       0.88      0.83      0.82        23\n",
      "\n"
     ]
    },
    {
     "data": {
      "text/plain": [
       "[0.9104477611940298,\n",
       " 0.8260869565217391,\n",
       " array([2, 2, 1, 2, 1, 2, 2, 2, 1, 0, 1, 2, 2, 0, 0, 2, 1, 2, 2, 1, 2, 0,\n",
       "        2])]"
      ]
     },
     "execution_count": 18,
     "metadata": {},
     "output_type": "execute_result"
    }
   ],
   "source": [
    "np.random.seed(12121)\n",
    "result = naive_bayes(X, y)\n",
    "result"
   ]
  },
  {
   "cell_type": "code",
   "execution_count": 19,
   "metadata": {},
   "outputs": [
    {
     "name": "stdout",
     "output_type": "stream",
     "text": [
      "              precision    recall  f1-score   support\n",
      "\n",
      "           0       0.80      1.00      0.89         4\n",
      "           1       1.00      0.80      0.89        10\n",
      "           2       0.90      1.00      0.95         9\n",
      "\n",
      "    accuracy                           0.91        23\n",
      "   macro avg       0.90      0.93      0.91        23\n",
      "weighted avg       0.93      0.91      0.91        23\n",
      "\n"
     ]
    },
    {
     "data": {
      "text/plain": [
       "[0.9402985074626866,\n",
       " 0.9130434782608695,\n",
       " array([1, 2, 1, 2, 1, 0, 2, 2, 1, 0, 1, 2, 2, 0, 0, 2, 1, 1, 2, 1, 2, 0,\n",
       "        2])]"
      ]
     },
     "execution_count": 19,
     "metadata": {},
     "output_type": "execute_result"
    }
   ],
   "source": [
    "np.random.seed(12121)\n",
    "result = decision_tree(X, y)\n",
    "result"
   ]
  },
  {
   "cell_type": "code",
   "execution_count": 20,
   "metadata": {},
   "outputs": [
    {
     "name": "stdout",
     "output_type": "stream",
     "text": [
      "              precision    recall  f1-score   support\n",
      "\n",
      "           0       0.67      1.00      0.80         4\n",
      "           1       0.86      0.60      0.71        10\n",
      "           2       0.80      0.89      0.84         9\n",
      "\n",
      "    accuracy                           0.78        23\n",
      "   macro avg       0.77      0.83      0.78        23\n",
      "weighted avg       0.80      0.78      0.78        23\n",
      "\n"
     ]
    },
    {
     "data": {
      "text/plain": [
       "[0.9402985074626866,\n",
       " 0.782608695652174,\n",
       " array([0, 2, 1, 2, 1, 2, 2, 2, 1, 0, 1, 2, 2, 0, 0, 2, 1, 0, 1, 1, 2, 0,\n",
       "        2])]"
      ]
     },
     "execution_count": 20,
     "metadata": {},
     "output_type": "execute_result"
    }
   ],
   "source": [
    "np.random.seed(12121)\n",
    "result = pca(X, y)\n",
    "result"
   ]
  }
 ],
 "metadata": {
  "kernelspec": {
   "display_name": "Python 3",
   "language": "python",
   "name": "python3"
  },
  "language_info": {
   "codemirror_mode": {
    "name": "ipython",
    "version": 3
   },
   "file_extension": ".py",
   "mimetype": "text/x-python",
   "name": "python",
   "nbconvert_exporter": "python",
   "pygments_lexer": "ipython3",
   "version": "3.7.9"
  }
 },
 "nbformat": 4,
 "nbformat_minor": 4
}
