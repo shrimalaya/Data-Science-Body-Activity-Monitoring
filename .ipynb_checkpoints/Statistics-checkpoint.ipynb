{
 "cells": [
  {
   "cell_type": "code",
   "execution_count": null,
   "metadata": {},
   "outputs": [],
   "source": [
    "import sys\n",
    "import numpy as np\n",
    "import pandas as pd\n",
    "import matplotlib.pyplot as plt\n",
    "from datetime import datetime\n",
    "from statsmodels.nonparametric.smoothers_lowess import lowess\n",
    "from scipy import stats\n",
    "from statsmodels.stats.multicomp import pairwise_tukeyhsd\n",
    "import seaborn as sns"
   ]
  },
  {
   "cell_type": "code",
   "execution_count": null,
   "metadata": {},
   "outputs": [],
   "source": [
    "standing1= pd.read_csv((\"data/cleaned/standing/standing1.csv\"), sep = ';')\n",
    "standing2= pd.read_csv((\"data/cleaned/standing/standing2.csv\"), sep = ';')\n",
    "standing3= pd.read_csv((\"data/cleaned/standing/standing3.csv\"), sep = ';')\n",
    "standing4= pd.read_csv((\"data/cleaned/standing/standing4.csv\"), sep = ';')\n",
    "standing5= pd.read_csv((\"data/cleaned/standing/standing5.csv\"), sep = ';')\n",
    "standing6= pd.read_csv((\"data/cleaned/standing/standing6.csv\"), sep = ';')\n",
    "standing7= pd.read_csv((\"data/cleaned/standing/standing7.csv\"), sep = ';')\n",
    "standing8= pd.read_csv((\"data/cleaned/standing/standing8.csv\"), sep = ';')\n",
    "standing9= pd.read_csv((\"data/cleaned/standing/standing9.csv\"), sep = ';')\n",
    "standing10= pd.read_csv((\"data/cleaned/standing/standing10.csv\"), sep = ';')\n",
    "\n",
    "standing11= pd.read_csv((\"data/cleaned/standing/standing11.csv\"), sep = ';')\n",
    "standing12= pd.read_csv((\"data/cleaned/standing/standing12.csv\"), sep = ';')\n",
    "standing13= pd.read_csv((\"data/cleaned/standing/standing13.csv\"), sep = ';')\n",
    "standing14= pd.read_csv((\"data/cleaned/standing/standing14.csv\"), sep = ';')\n",
    "standing15= pd.read_csv((\"data/cleaned/standing/standing15.csv\"), sep = ';')\n",
    "standing16= pd.read_csv((\"data/cleaned/standing/standing16.csv\"), sep = ';')\n",
    "standing17= pd.read_csv((\"data/cleaned/standing/standing17.csv\"), sep = ';')\n",
    "standing18= pd.read_csv((\"data/cleaned/standing/standing18.csv\"), sep = ';')\n",
    "standing19= pd.read_csv((\"data/cleaned/standing/standing19.csv\"), sep = ';')\n",
    "standing20= pd.read_csv((\"data/cleaned/standing/standing20.csv\"), sep = ';')\n",
    "\n",
    "standing21= pd.read_csv((\"data/cleaned/standing/standing21.csv\"), sep = ';')\n",
    "standing22= pd.read_csv((\"data/cleaned/standing/standing22.csv\"), sep = ';')\n",
    "standing23= pd.read_csv((\"data/cleaned/standing/standing23.csv\"), sep = ';')\n",
    "standing24= pd.read_csv((\"data/cleaned/standing/standing24.csv\"), sep = ';')\n",
    "standing25= pd.read_csv((\"data/cleaned/standing/standing25.csv\"), sep = ';')\n",
    "standing26= pd.read_csv((\"data/cleaned/standing/standing26.csv\"), sep = ';')\n",
    "standing27= pd.read_csv((\"data/cleaned/standing/standing27.csv\"), sep = ';')\n",
    "standing28= pd.read_csv((\"data/cleaned/standing/standing28.csv\"), sep = ';')\n",
    "standing29= pd.read_csv((\"data/cleaned/standing/standing29.csv\"), sep = ';')\n",
    "standing30= pd.read_csv((\"data/cleaned/standing/standing30.csv\"), sep = ';')\n"
   ]
  },
  {
   "cell_type": "code",
   "execution_count": null,
   "metadata": {},
   "outputs": [],
   "source": [
    "df=pd.DataFrame(standing1[['AccX','AccY','AccZ','Acc-old','Acc-trns']].mean()).T\n",
    "df2=pd.DataFrame(standing2[['AccX','AccY','AccZ','Acc-old','Acc-trns']].mean()).T\n",
    "df3=pd.DataFrame(standing3[['AccX','AccY','AccZ','Acc-old','Acc-trns']].mean()).T\n",
    "df4=pd.DataFrame(standing4[['AccX','AccY','AccZ','Acc-old','Acc-trns']].mean()).T\n",
    "df5=pd.DataFrame(standing5[['AccX','AccY','AccZ','Acc-old','Acc-trns']].mean()).T\n",
    "df6=pd.DataFrame(standing6[['AccX','AccY','AccZ','Acc-old','Acc-trns']].mean()).T\n",
    "df7=pd.DataFrame(standing7[['AccX','AccY','AccZ','Acc-old','Acc-trns']].mean()).T\n",
    "df8=pd.DataFrame(standing8[['AccX','AccY','AccZ','Acc-old','Acc-trns']].mean()).T\n",
    "df9=pd.DataFrame(standing9[['AccX','AccY','AccZ','Acc-old','Acc-trns']].mean()).T\n",
    "df10=pd.DataFrame(standing10[['AccX','AccY','AccZ','Acc-old','Acc-trns']].mean()).T\n",
    "\n",
    "df11=pd.DataFrame(standing11[['AccX','AccY','AccZ','Acc-old','Acc-trns']].mean()).T\n",
    "df12=pd.DataFrame(standing12[['AccX','AccY','AccZ','Acc-old','Acc-trns']].mean()).T\n",
    "df13=pd.DataFrame(standing13[['AccX','AccY','AccZ','Acc-old','Acc-trns']].mean()).T\n",
    "df14=pd.DataFrame(standing14[['AccX','AccY','AccZ','Acc-old','Acc-trns']].mean()).T\n",
    "df15=pd.DataFrame(standing15[['AccX','AccY','AccZ','Acc-old','Acc-trns']].mean()).T\n",
    "df16=pd.DataFrame(standing16[['AccX','AccY','AccZ','Acc-old','Acc-trns']].mean()).T\n",
    "df17=pd.DataFrame(standing17[['AccX','AccY','AccZ','Acc-old','Acc-trns']].mean()).T\n",
    "df18=pd.DataFrame(standing18[['AccX','AccY','AccZ','Acc-old','Acc-trns']].mean()).T\n",
    "df19=pd.DataFrame(standing19[['AccX','AccY','AccZ','Acc-old','Acc-trns']].mean()).T\n",
    "df20=pd.DataFrame(standing20[['AccX','AccY','AccZ','Acc-old','Acc-trns']].mean()).T\n",
    "\n",
    "df21=pd.DataFrame(standing21[['AccX','AccY','AccZ','Acc-old','Acc-trns']].mean()).T\n",
    "df22=pd.DataFrame(standing22[['AccX','AccY','AccZ','Acc-old','Acc-trns']].mean()).T\n",
    "df23=pd.DataFrame(standing23[['AccX','AccY','AccZ','Acc-old','Acc-trns']].mean()).T\n",
    "df24=pd.DataFrame(standing24[['AccX','AccY','AccZ','Acc-old','Acc-trns']].mean()).T\n",
    "df25=pd.DataFrame(standing25[['AccX','AccY','AccZ','Acc-old','Acc-trns']].mean()).T\n",
    "df26=pd.DataFrame(standing26[['AccX','AccY','AccZ','Acc-old','Acc-trns']].mean()).T\n",
    "df27=pd.DataFrame(standing27[['AccX','AccY','AccZ','Acc-old','Acc-trns']].mean()).T\n",
    "df28=pd.DataFrame(standing28[['AccX','AccY','AccZ','Acc-old','Acc-trns']].mean()).T\n",
    "df29=pd.DataFrame(standing29[['AccX','AccY','AccZ','Acc-old','Acc-trns']].mean()).T\n",
    "df30=pd.DataFrame(standing30[['AccX','AccY','AccZ','Acc-old','Acc-trns']].mean()).T\n"
   ]
  },
  {
   "cell_type": "code",
   "execution_count": null,
   "metadata": {},
   "outputs": [],
   "source": [
    "dfmin1=pd.DataFrame(standing1[['AccX','AccY','AccZ','Acc-old','Acc-trns']].min()).T\n",
    "dfmin2=pd.DataFrame(standing2[['AccX','AccY','AccZ','Acc-old','Acc-trns']].min()).T\n",
    "dfmin3=pd.DataFrame(standing3[['AccX','AccY','AccZ','Acc-old','Acc-trns']].min()).T\n",
    "dfmin4=pd.DataFrame(standing4[['AccX','AccY','AccZ','Acc-old','Acc-trns']].min()).T\n",
    "dfmin5=pd.DataFrame(standing5[['AccX','AccY','AccZ','Acc-old','Acc-trns']].min()).T\n",
    "dfmin6=pd.DataFrame(standing6[['AccX','AccY','AccZ','Acc-old','Acc-trns']].min()).T\n",
    "dfmin7=pd.DataFrame(standing7[['AccX','AccY','AccZ','Acc-old','Acc-trns']].min()).T\n",
    "dfmin8=pd.DataFrame(standing8[['AccX','AccY','AccZ','Acc-old','Acc-trns']].min()).T\n",
    "dfmin9=pd.DataFrame(standing9[['AccX','AccY','AccZ','Acc-old','Acc-trns']].min()).T\n",
    "dfmin10=pd.DataFrame(standing10[['AccX','AccY','AccZ','Acc-old','Acc-trns']].min()).T\n",
    "\n",
    "dfmin11=pd.DataFrame(standing11[['AccX','AccY','AccZ','Acc-old','Acc-trns']].min()).T\n",
    "dfmin12=pd.DataFrame(standing12[['AccX','AccY','AccZ','Acc-old','Acc-trns']].min()).T\n",
    "dfmin13=pd.DataFrame(standing13[['AccX','AccY','AccZ','Acc-old','Acc-trns']].min()).T\n",
    "dfmin14=pd.DataFrame(standing14[['AccX','AccY','AccZ','Acc-old','Acc-trns']].min()).T\n",
    "dfmin15=pd.DataFrame(standing15[['AccX','AccY','AccZ','Acc-old','Acc-trns']].min()).T\n",
    "dfmin16=pd.DataFrame(standing16[['AccX','AccY','AccZ','Acc-old','Acc-trns']].min()).T\n",
    "dfmin17=pd.DataFrame(standing17[['AccX','AccY','AccZ','Acc-old','Acc-trns']].min()).T\n",
    "dfmin18=pd.DataFrame(standing18[['AccX','AccY','AccZ','Acc-old','Acc-trns']].min()).T\n",
    "dfmin19=pd.DataFrame(standing19[['AccX','AccY','AccZ','Acc-old','Acc-trns']].min()).T\n",
    "dfmin20=pd.DataFrame(standing20[['AccX','AccY','AccZ','Acc-old','Acc-trns']].min()).T\n",
    "\n",
    "dfmin21=pd.DataFrame(standing21[['AccX','AccY','AccZ','Acc-old','Acc-trns']].min()).T\n",
    "dfmin22=pd.DataFrame(standing22[['AccX','AccY','AccZ','Acc-old','Acc-trns']].min()).T\n",
    "dfmin23=pd.DataFrame(standing23[['AccX','AccY','AccZ','Acc-old','Acc-trns']].min()).T\n",
    "dfmin24=pd.DataFrame(standing24[['AccX','AccY','AccZ','Acc-old','Acc-trns']].min()).T\n",
    "dfmin25=pd.DataFrame(standing25[['AccX','AccY','AccZ','Acc-old','Acc-trns']].min()).T\n",
    "dfmin26=pd.DataFrame(standing26[['AccX','AccY','AccZ','Acc-old','Acc-trns']].min()).T\n",
    "dfmin27=pd.DataFrame(standing27[['AccX','AccY','AccZ','Acc-old','Acc-trns']].min()).T\n",
    "dfmin28=pd.DataFrame(standing28[['AccX','AccY','AccZ','Acc-old','Acc-trns']].min()).T\n",
    "dfmin29=pd.DataFrame(standing29[['AccX','AccY','AccZ','Acc-old','Acc-trns']].min()).T\n",
    "dfmin30=pd.DataFrame(standing30[['AccX','AccY','AccZ','Acc-old','Acc-trns']].min()).T"
   ]
  },
  {
   "cell_type": "code",
   "execution_count": null,
   "metadata": {},
   "outputs": [],
   "source": [
    "dfmax1=pd.DataFrame(standing1[['AccX','AccY','AccZ','Acc-old','Acc-trns']].max()).T\n",
    "dfmax2=pd.DataFrame(standing2[['AccX','AccY','AccZ','Acc-old','Acc-trns']].max()).T\n",
    "dfmax3=pd.DataFrame(standing3[['AccX','AccY','AccZ','Acc-old','Acc-trns']].max()).T\n",
    "dfmax4=pd.DataFrame(standing4[['AccX','AccY','AccZ','Acc-old','Acc-trns']].max()).T\n",
    "dfmax5=pd.DataFrame(standing5[['AccX','AccY','AccZ','Acc-old','Acc-trns']].max()).T\n",
    "dfmax6=pd.DataFrame(standing6[['AccX','AccY','AccZ','Acc-old','Acc-trns']].max()).T\n",
    "dfmax7=pd.DataFrame(standing7[['AccX','AccY','AccZ','Acc-old','Acc-trns']].max()).T\n",
    "dfmax8=pd.DataFrame(standing8[['AccX','AccY','AccZ','Acc-old','Acc-trns']].max()).T\n",
    "dfmax9=pd.DataFrame(standing9[['AccX','AccY','AccZ','Acc-old','Acc-trns']].max()).T\n",
    "dfmax10=pd.DataFrame(standing10[['AccX','AccY','AccZ','Acc-old','Acc-trns']].max()).T\n",
    "\n",
    "dfmax11=pd.DataFrame(standing11[['AccX','AccY','AccZ','Acc-old','Acc-trns']].max()).T\n",
    "dfmax12=pd.DataFrame(standing12[['AccX','AccY','AccZ','Acc-old','Acc-trns']].max()).T\n",
    "dfmax13=pd.DataFrame(standing13[['AccX','AccY','AccZ','Acc-old','Acc-trns']].max()).T\n",
    "dfmax14=pd.DataFrame(standing14[['AccX','AccY','AccZ','Acc-old','Acc-trns']].max()).T\n",
    "dfmax15=pd.DataFrame(standing15[['AccX','AccY','AccZ','Acc-old','Acc-trns']].max()).T\n",
    "dfmax16=pd.DataFrame(standing16[['AccX','AccY','AccZ','Acc-old','Acc-trns']].max()).T\n",
    "dfmax17=pd.DataFrame(standing17[['AccX','AccY','AccZ','Acc-old','Acc-trns']].max()).T\n",
    "dfmax18=pd.DataFrame(standing18[['AccX','AccY','AccZ','Acc-old','Acc-trns']].max()).T\n",
    "dfmax19=pd.DataFrame(standing19[['AccX','AccY','AccZ','Acc-old','Acc-trns']].max()).T\n",
    "dfmax20=pd.DataFrame(standing20[['AccX','AccY','AccZ','Acc-old','Acc-trns']].max()).T\n",
    "\n",
    "dfmax21=pd.DataFrame(standing21[['AccX','AccY','AccZ','Acc-old','Acc-trns']].max()).T\n",
    "dfmax22=pd.DataFrame(standing22[['AccX','AccY','AccZ','Acc-old','Acc-trns']].max()).T\n",
    "dfmax23=pd.DataFrame(standing23[['AccX','AccY','AccZ','Acc-old','Acc-trns']].max()).T\n",
    "dfmax24=pd.DataFrame(standing24[['AccX','AccY','AccZ','Acc-old','Acc-trns']].max()).T\n",
    "dfmax25=pd.DataFrame(standing25[['AccX','AccY','AccZ','Acc-old','Acc-trns']].max()).T\n",
    "dfmax26=pd.DataFrame(standing26[['AccX','AccY','AccZ','Acc-old','Acc-trns']].max()).T\n",
    "dfmax27=pd.DataFrame(standing27[['AccX','AccY','AccZ','Acc-old','Acc-trns']].max()).T\n",
    "dfmax28=pd.DataFrame(standing28[['AccX','AccY','AccZ','Acc-old','Acc-trns']].max()).T\n",
    "dfmax29=pd.DataFrame(standing29[['AccX','AccY','AccZ','Acc-old','Acc-trns']].max()).T\n",
    "dfmax30=pd.DataFrame(standing30[['AccX','AccY','AccZ','Acc-old','Acc-trns']].max()).T"
   ]
  },
  {
   "cell_type": "code",
   "execution_count": null,
   "metadata": {},
   "outputs": [],
   "source": [
    "Meanstanding=df.append(df2)\n",
    "Meanstanding=Meanstanding.append(df3)\n",
    "Meanstanding=Meanstanding.append(df4)\n",
    "Meanstanding=Meanstanding.append(df5)\n",
    "Meanstanding=Meanstanding.append(df6)\n",
    "Meanstanding=Meanstanding.append(df7)\n",
    "Meanstanding=Meanstanding.append(df8)\n",
    "Meanstanding=Meanstanding.append(df9)\n",
    "Meanstanding=Meanstanding.append(df10)\n",
    "\n",
    "Meanstanding=Meanstanding.append(df11)\n",
    "Meanstanding=Meanstanding.append(df12)\n",
    "Meanstanding=Meanstanding.append(df13)\n",
    "Meanstanding=Meanstanding.append(df14)\n",
    "Meanstanding=Meanstanding.append(df15)\n",
    "Meanstanding=Meanstanding.append(df16)\n",
    "Meanstanding=Meanstanding.append(df17)\n",
    "Meanstanding=Meanstanding.append(df18)\n",
    "Meanstanding=Meanstanding.append(df19)\n",
    "Meanstanding=Meanstanding.append(df20)\n",
    "\n",
    "Meanstanding=Meanstanding.append(df21)\n",
    "Meanstanding=Meanstanding.append(df22)\n",
    "Meanstanding=Meanstanding.append(df23)\n",
    "Meanstanding=Meanstanding.append(df24)\n",
    "Meanstanding=Meanstanding.append(df25)\n",
    "Meanstanding=Meanstanding.append(df26)\n",
    "Meanstanding=Meanstanding.append(df27)\n",
    "Meanstanding=Meanstanding.append(df28)\n",
    "Meanstanding=Meanstanding.append(df29)\n",
    "Meanstanding=Meanstanding.append(df30)"
   ]
  },
  {
   "cell_type": "code",
   "execution_count": null,
   "metadata": {},
   "outputs": [],
   "source": [
    "Minstanding=dfmin1.append(dfmin2)\n",
    "Minstanding=Minstanding.append(dfmin3)\n",
    "Minstanding=Minstanding.append(dfmin4)\n",
    "Minstanding=Minstanding.append(dfmin5)\n",
    "Minstanding=Minstanding.append(dfmin6)\n",
    "Minstanding=Minstanding.append(dfmin7)\n",
    "Minstanding=Minstanding.append(dfmin8)\n",
    "Minstanding=Minstanding.append(dfmin9)\n",
    "Minstanding=Minstanding.append(dfmin10)\n",
    "\n",
    "Minstanding=Minstanding.append(dfmin11)\n",
    "Minstanding=Minstanding.append(dfmin12)\n",
    "Minstanding=Minstanding.append(dfmin13)\n",
    "Minstanding=Minstanding.append(dfmin14)\n",
    "Minstanding=Minstanding.append(dfmin15)\n",
    "Minstanding=Minstanding.append(dfmin16)\n",
    "Minstanding=Minstanding.append(dfmin17)\n",
    "Minstanding=Minstanding.append(dfmin18)\n",
    "Minstanding=Minstanding.append(dfmin19)\n",
    "Minstanding=Minstanding.append(dfmin20)\n",
    "\n",
    "Minstanding=Minstanding.append(dfmin21)\n",
    "Minstanding=Minstanding.append(dfmin22)\n",
    "Minstanding=Minstanding.append(dfmin23)\n",
    "Minstanding=Minstanding.append(dfmin24)\n",
    "Minstanding=Minstanding.append(dfmin25)\n",
    "Minstanding=Minstanding.append(dfmin26)\n",
    "Minstanding=Minstanding.append(dfmin27)\n",
    "Minstanding=Minstanding.append(dfmin28)\n",
    "Minstanding=Minstanding.append(dfmin29)\n",
    "Minstanding=Minstanding.append(dfmin30)"
   ]
  },
  {
   "cell_type": "code",
   "execution_count": null,
   "metadata": {},
   "outputs": [],
   "source": [
    "Maxstanding=dfmax1.append(dfmax2)\n",
    "Maxstanding=Maxstanding.append(dfmax3)\n",
    "Maxstanding=Maxstanding.append(dfmax4)\n",
    "Maxstanding=Maxstanding.append(dfmax5)\n",
    "Maxstanding=Maxstanding.append(dfmax6)\n",
    "Maxstanding=Maxstanding.append(dfmax7)\n",
    "Maxstanding=Maxstanding.append(dfmax8)\n",
    "Maxstanding=Maxstanding.append(dfmax9)\n",
    "Maxstanding=Maxstanding.append(dfmax10)\n",
    "\n",
    "Maxstanding=Maxstanding.append(dfmax11)\n",
    "Maxstanding=Maxstanding.append(dfmax12)\n",
    "Maxstanding=Maxstanding.append(dfmax13)\n",
    "Maxstanding=Maxstanding.append(dfmax14)\n",
    "Maxstanding=Maxstanding.append(dfmax15)\n",
    "Maxstanding=Maxstanding.append(dfmax16)\n",
    "Maxstanding=Maxstanding.append(dfmax17)\n",
    "Maxstanding=Maxstanding.append(dfmax18)\n",
    "Maxstanding=Maxstanding.append(dfmax19)\n",
    "Maxstanding=Maxstanding.append(dfmax20)\n",
    "\n",
    "Maxstanding=Maxstanding.append(dfmax21)\n",
    "Maxstanding=Maxstanding.append(dfmax22)\n",
    "Maxstanding=Maxstanding.append(dfmax23)\n",
    "Maxstanding=Maxstanding.append(dfmax24)\n",
    "Maxstanding=Maxstanding.append(dfmax25)\n",
    "Maxstanding=Maxstanding.append(dfmax26)\n",
    "Maxstanding=Maxstanding.append(dfmax27)\n",
    "Maxstanding=Maxstanding.append(dfmax28)\n",
    "Maxstanding=Maxstanding.append(dfmax29)\n",
    "Maxstanding=Maxstanding.append(dfmax30)"
   ]
  },
  {
   "cell_type": "code",
   "execution_count": null,
   "metadata": {},
   "outputs": [],
   "source": [
    "Meanstanding.columns=['mean1AccX','mean1AccY','mean1AccZ','mean1Acc-old','mean1Acc-turns']\n",
    "Minstanding.columns=['min1AccX','min1AccY','min1AccZ','min1Acc-old','min1Acc-turns']\n",
    "Maxstanding.columns=['max1AccX','max1AccY','max1AccZ','max1Acc-old','max1Acc-turns']"
   ]
  },
  {
   "cell_type": "code",
   "execution_count": null,
   "metadata": {},
   "outputs": [],
   "source": [
    "Meanstanding['min1AccX']=Minstanding['min1AccX']\n",
    "Meanstanding['min1AccY']=Minstanding['min1AccY']\n",
    "Meanstanding['min1AccZ']=Minstanding['min1AccZ']\n",
    "Meanstanding['min1Acc-old']=Minstanding['min1Acc-old']\n",
    "Meanstanding['min1Acc-turns']=Minstanding['min1Acc-turns']\n",
    "Meanstanding['max1AccX']=Maxstanding['max1AccX']\n",
    "Meanstanding['max1AccY']=Maxstanding['max1AccY']\n",
    "Meanstanding['max1AccZ']=Maxstanding['max1AccZ']\n",
    "Meanstanding['max1Acc-old']=Maxstanding['max1Acc-old']\n",
    "Meanstanding['max1Acc-turns']=Maxstanding['max1Acc-turns']"
   ]
  },
  {
   "cell_type": "code",
   "execution_count": null,
   "metadata": {},
   "outputs": [],
   "source": [
    "Meanstanding.to_csv(\"data/readyToTrain/standing\")"
   ]
  },
  {
   "cell_type": "code",
   "execution_count": null,
   "metadata": {},
   "outputs": [],
   "source": [
    "Meanstanding.index = Meanstanding.index.map(str)"
   ]
  },
  {
   "cell_type": "code",
   "execution_count": null,
   "metadata": {},
   "outputs": [],
   "source": [
    "indexNamesArr = Meanstanding.index.values"
   ]
  },
  {
   "cell_type": "code",
   "execution_count": null,
   "metadata": {},
   "outputs": [],
   "source": [
    "for i in range(30):\n",
    "    indexNamesArr[i] = 'Standing{}'.format(i+1)"
   ]
  },
  {
   "cell_type": "code",
   "execution_count": null,
   "metadata": {},
   "outputs": [],
   "source": [
    "Meanstanding"
   ]
  },
  {
   "cell_type": "markdown",
   "metadata": {},
   "source": [
    "# WALKING DATA MEAN"
   ]
  },
  {
   "cell_type": "code",
   "execution_count": null,
   "metadata": {},
   "outputs": [],
   "source": [
    "walk1 = pd.read_csv((\"data/cleaned/walking/walk1.csv\"), sep = ';')\n",
    "walk2 = pd.read_csv((\"data/cleaned/walking/walk2.csv\"), sep = ';')\n",
    "walk3 = pd.read_csv((\"data/cleaned/walking/walk3.csv\"), sep = ';')\n",
    "walk4 = pd.read_csv((\"data/cleaned/walking/walk4.csv\"), sep = ';')\n",
    "walk5 = pd.read_csv((\"data/cleaned/walking/walk5.csv\"), sep = ';')\n",
    "walk6 = pd.read_csv((\"data/cleaned/walking/walk6.csv\"), sep = ';')\n",
    "walk7 = pd.read_csv((\"data/cleaned/walking/walk7.csv\"), sep = ';')\n",
    "walk8 = pd.read_csv((\"data/cleaned/walking/walk8.csv\"), sep = ';')\n",
    "walk9 = pd.read_csv((\"data/cleaned/walking/walk9.csv\"), sep = ';')\n",
    "walk10= pd.read_csv((\"data/cleaned/walking/walk10.csv\"), sep = ';')\n",
    "\n",
    "walk11 = pd.read_csv((\"data/cleaned/walking/walk11.csv\"), sep = ';')\n",
    "walk12 = pd.read_csv((\"data/cleaned/walking/walk12.csv\"), sep = ';')\n",
    "walk13 = pd.read_csv((\"data/cleaned/walking/walk13.csv\"), sep = ';')\n",
    "walk14 = pd.read_csv((\"data/cleaned/walking/walk14.csv\"), sep = ';')\n",
    "walk15 = pd.read_csv((\"data/cleaned/walking/walk15.csv\"), sep = ';')\n",
    "walk16 = pd.read_csv((\"data/cleaned/walking/walk16.csv\"), sep = ';')\n",
    "walk17 = pd.read_csv((\"data/cleaned/walking/walk17.csv\"), sep = ';')\n",
    "walk18 = pd.read_csv((\"data/cleaned/walking/walk18.csv\"), sep = ';')\n",
    "walk19 = pd.read_csv((\"data/cleaned/walking/walk19.csv\"), sep = ';')\n",
    "walk20 = pd.read_csv((\"data/cleaned/walking/walk20.csv\"), sep = ';')\n",
    "\n",
    "walk21 = pd.read_csv((\"data/cleaned/walking/walk21.csv\"), sep = ';')\n",
    "walk22 = pd.read_csv((\"data/cleaned/walking/walk22.csv\"), sep = ';')\n",
    "walk23 = pd.read_csv((\"data/cleaned/walking/walk23.csv\"), sep = ';')\n",
    "walk24 = pd.read_csv((\"data/cleaned/walking/walk24.csv\"), sep = ';')\n",
    "walk25 = pd.read_csv((\"data/cleaned/walking/walk25.csv\"), sep = ';')\n",
    "walk26 = pd.read_csv((\"data/cleaned/walking/walk26.csv\"), sep = ';')\n",
    "walk27 = pd.read_csv((\"data/cleaned/walking/walk27.csv\"), sep = ';')\n",
    "walk28 = pd.read_csv((\"data/cleaned/walking/walk28.csv\"), sep = ';')\n",
    "walk29 = pd.read_csv((\"data/cleaned/walking/walk29.csv\"), sep = ';')\n",
    "walk30 = pd.read_csv((\"data/cleaned/walking/walk30.csv\"), sep = ';')"
   ]
  },
  {
   "cell_type": "code",
   "execution_count": null,
   "metadata": {},
   "outputs": [],
   "source": [
    "df=pd.DataFrame(walk1[['AccX','AccY','AccZ','Acc-old','Acc-trns']].mean()).T\n",
    "df2=pd.DataFrame(walk2[['AccX','AccY','AccZ','Acc-old','Acc-trns']].mean()).T\n",
    "df3=pd.DataFrame(walk3[['AccX','AccY','AccZ','Acc-old','Acc-trns']].mean()).T\n",
    "df4=pd.DataFrame(walk4[['AccX','AccY','AccZ','Acc-old','Acc-trns']].mean()).T\n",
    "df5=pd.DataFrame(walk5[['AccX','AccY','AccZ','Acc-old','Acc-trns']].mean()).T\n",
    "df6=pd.DataFrame(walk6[['AccX','AccY','AccZ','Acc-old','Acc-trns']].mean()).T\n",
    "df7=pd.DataFrame(walk7[['AccX','AccY','AccZ','Acc-old','Acc-trns']].mean()).T\n",
    "df8=pd.DataFrame(walk8[['AccX','AccY','AccZ','Acc-old','Acc-trns']].mean()).T\n",
    "df9=pd.DataFrame(walk9[['AccX','AccY','AccZ','Acc-old','Acc-trns']].mean()).T\n",
    "df10=pd.DataFrame(walk10[['AccX','AccY','AccZ','Acc-old','Acc-trns']].mean()).T\n",
    "\n",
    "df11=pd.DataFrame(walk11[['AccX','AccY','AccZ','Acc-old','Acc-trns']].mean()).T\n",
    "df12=pd.DataFrame(walk12[['AccX','AccY','AccZ','Acc-old','Acc-trns']].mean()).T\n",
    "df13=pd.DataFrame(walk13[['AccX','AccY','AccZ','Acc-old','Acc-trns']].mean()).T\n",
    "df14=pd.DataFrame(walk14[['AccX','AccY','AccZ','Acc-old','Acc-trns']].mean()).T\n",
    "df15=pd.DataFrame(walk15[['AccX','AccY','AccZ','Acc-old','Acc-trns']].mean()).T\n",
    "df16=pd.DataFrame(walk16[['AccX','AccY','AccZ','Acc-old','Acc-trns']].mean()).T\n",
    "df17=pd.DataFrame(walk17[['AccX','AccY','AccZ','Acc-old','Acc-trns']].mean()).T\n",
    "df18=pd.DataFrame(walk18[['AccX','AccY','AccZ','Acc-old','Acc-trns']].mean()).T\n",
    "df19=pd.DataFrame(walk19[['AccX','AccY','AccZ','Acc-old','Acc-trns']].mean()).T\n",
    "df20=pd.DataFrame(walk20[['AccX','AccY','AccZ','Acc-old','Acc-trns']].mean()).T\n",
    "\n",
    "df21=pd.DataFrame(walk21[['AccX','AccY','AccZ','Acc-old','Acc-trns']].mean()).T\n",
    "df22=pd.DataFrame(walk22[['AccX','AccY','AccZ','Acc-old','Acc-trns']].mean()).T\n",
    "df23=pd.DataFrame(walk23[['AccX','AccY','AccZ','Acc-old','Acc-trns']].mean()).T\n",
    "df24=pd.DataFrame(walk24[['AccX','AccY','AccZ','Acc-old','Acc-trns']].mean()).T\n",
    "df25=pd.DataFrame(walk25[['AccX','AccY','AccZ','Acc-old','Acc-trns']].mean()).T\n",
    "df26=pd.DataFrame(walk26[['AccX','AccY','AccZ','Acc-old','Acc-trns']].mean()).T\n",
    "df27=pd.DataFrame(walk27[['AccX','AccY','AccZ','Acc-old','Acc-trns']].mean()).T\n",
    "df28=pd.DataFrame(walk28[['AccX','AccY','AccZ','Acc-old','Acc-trns']].mean()).T\n",
    "df29=pd.DataFrame(walk29[['AccX','AccY','AccZ','Acc-old','Acc-trns']].mean()).T\n",
    "df30=pd.DataFrame(walk30[['AccX','AccY','AccZ','Acc-old','Acc-trns']].mean()).T"
   ]
  },
  {
   "cell_type": "code",
   "execution_count": null,
   "metadata": {},
   "outputs": [],
   "source": [
    "dfmin1=pd.DataFrame(walk1[['AccX','AccY','AccZ','Acc-old','Acc-trns']].min()).T\n",
    "dfmin2=pd.DataFrame(walk2[['AccX','AccY','AccZ','Acc-old','Acc-trns']].min()).T\n",
    "dfmin3=pd.DataFrame(walk3[['AccX','AccY','AccZ','Acc-old','Acc-trns']].min()).T\n",
    "dfmin4=pd.DataFrame(walk4[['AccX','AccY','AccZ','Acc-old','Acc-trns']].min()).T\n",
    "dfmin5=pd.DataFrame(walk5[['AccX','AccY','AccZ','Acc-old','Acc-trns']].min()).T\n",
    "dfmin6=pd.DataFrame(walk6[['AccX','AccY','AccZ','Acc-old','Acc-trns']].min()).T\n",
    "dfmin7=pd.DataFrame(walk7[['AccX','AccY','AccZ','Acc-old','Acc-trns']].min()).T\n",
    "dfmin8=pd.DataFrame(walk8[['AccX','AccY','AccZ','Acc-old','Acc-trns']].min()).T\n",
    "dfmin9=pd.DataFrame(walk9[['AccX','AccY','AccZ','Acc-old','Acc-trns']].min()).T\n",
    "dfmin10=pd.DataFrame(walk10[['AccX','AccY','AccZ','Acc-old','Acc-trns']].min()).T\n",
    "\n",
    "dfmin11=pd.DataFrame(walk11[['AccX','AccY','AccZ','Acc-old','Acc-trns']].min()).T\n",
    "dfmin12=pd.DataFrame(walk12[['AccX','AccY','AccZ','Acc-old','Acc-trns']].min()).T\n",
    "dfmin13=pd.DataFrame(walk13[['AccX','AccY','AccZ','Acc-old','Acc-trns']].min()).T\n",
    "dfmin14=pd.DataFrame(walk14[['AccX','AccY','AccZ','Acc-old','Acc-trns']].min()).T\n",
    "dfmin15=pd.DataFrame(walk15[['AccX','AccY','AccZ','Acc-old','Acc-trns']].min()).T\n",
    "dfmin16=pd.DataFrame(walk16[['AccX','AccY','AccZ','Acc-old','Acc-trns']].min()).T\n",
    "dfmin17=pd.DataFrame(walk17[['AccX','AccY','AccZ','Acc-old','Acc-trns']].min()).T\n",
    "dfmin18=pd.DataFrame(walk18[['AccX','AccY','AccZ','Acc-old','Acc-trns']].min()).T\n",
    "dfmin19=pd.DataFrame(walk19[['AccX','AccY','AccZ','Acc-old','Acc-trns']].min()).T\n",
    "dfmin20=pd.DataFrame(walk20[['AccX','AccY','AccZ','Acc-old','Acc-trns']].min()).T\n",
    "\n",
    "dfmin21=pd.DataFrame(walk21[['AccX','AccY','AccZ','Acc-old','Acc-trns']].min()).T\n",
    "dfmin22=pd.DataFrame(walk22[['AccX','AccY','AccZ','Acc-old','Acc-trns']].min()).T\n",
    "dfmin23=pd.DataFrame(walk23[['AccX','AccY','AccZ','Acc-old','Acc-trns']].min()).T\n",
    "dfmin24=pd.DataFrame(walk24[['AccX','AccY','AccZ','Acc-old','Acc-trns']].min()).T\n",
    "dfmin25=pd.DataFrame(walk25[['AccX','AccY','AccZ','Acc-old','Acc-trns']].min()).T\n",
    "dfmin26=pd.DataFrame(walk26[['AccX','AccY','AccZ','Acc-old','Acc-trns']].min()).T\n",
    "dfmin27=pd.DataFrame(walk27[['AccX','AccY','AccZ','Acc-old','Acc-trns']].min()).T\n",
    "dfmin28=pd.DataFrame(walk28[['AccX','AccY','AccZ','Acc-old','Acc-trns']].min()).T\n",
    "dfmin29=pd.DataFrame(walk29[['AccX','AccY','AccZ','Acc-old','Acc-trns']].min()).T\n",
    "dfmin30=pd.DataFrame(walk30[['AccX','AccY','AccZ','Acc-old','Acc-trns']].min()).T"
   ]
  },
  {
   "cell_type": "code",
   "execution_count": null,
   "metadata": {},
   "outputs": [],
   "source": [
    "dfmax1=pd.DataFrame(walk1[['AccX','AccY','AccZ','Acc-old','Acc-trns']].max()).T\n",
    "dfmax2=pd.DataFrame(walk2[['AccX','AccY','AccZ','Acc-old','Acc-trns']].max()).T\n",
    "dfmax3=pd.DataFrame(walk3[['AccX','AccY','AccZ','Acc-old','Acc-trns']].max()).T\n",
    "dfmax4=pd.DataFrame(walk4[['AccX','AccY','AccZ','Acc-old','Acc-trns']].max()).T\n",
    "dfmax5=pd.DataFrame(walk5[['AccX','AccY','AccZ','Acc-old','Acc-trns']].max()).T\n",
    "dfmax6=pd.DataFrame(walk6[['AccX','AccY','AccZ','Acc-old','Acc-trns']].max()).T\n",
    "dfmax7=pd.DataFrame(walk7[['AccX','AccY','AccZ','Acc-old','Acc-trns']].max()).T\n",
    "dfmax8=pd.DataFrame(walk8[['AccX','AccY','AccZ','Acc-old','Acc-trns']].max()).T\n",
    "dfmax9=pd.DataFrame(walk9[['AccX','AccY','AccZ','Acc-old','Acc-trns']].max()).T\n",
    "dfmax10=pd.DataFrame(walk10[['AccX','AccY','AccZ','Acc-old','Acc-trns']].max()).T\n",
    "\n",
    "dfmax11=pd.DataFrame(walk11[['AccX','AccY','AccZ','Acc-old','Acc-trns']].max()).T\n",
    "dfmax12=pd.DataFrame(walk12[['AccX','AccY','AccZ','Acc-old','Acc-trns']].max()).T\n",
    "dfmax13=pd.DataFrame(walk13[['AccX','AccY','AccZ','Acc-old','Acc-trns']].max()).T\n",
    "dfmax14=pd.DataFrame(walk14[['AccX','AccY','AccZ','Acc-old','Acc-trns']].max()).T\n",
    "dfmax15=pd.DataFrame(walk15[['AccX','AccY','AccZ','Acc-old','Acc-trns']].max()).T\n",
    "dfmax16=pd.DataFrame(walk16[['AccX','AccY','AccZ','Acc-old','Acc-trns']].max()).T\n",
    "dfmax17=pd.DataFrame(walk17[['AccX','AccY','AccZ','Acc-old','Acc-trns']].max()).T\n",
    "dfmax18=pd.DataFrame(walk18[['AccX','AccY','AccZ','Acc-old','Acc-trns']].max()).T\n",
    "dfmax19=pd.DataFrame(walk19[['AccX','AccY','AccZ','Acc-old','Acc-trns']].max()).T\n",
    "dfmax20=pd.DataFrame(walk20[['AccX','AccY','AccZ','Acc-old','Acc-trns']].max()).T\n",
    "\n",
    "dfmax21=pd.DataFrame(walk21[['AccX','AccY','AccZ','Acc-old','Acc-trns']].max()).T\n",
    "dfmax22=pd.DataFrame(walk22[['AccX','AccY','AccZ','Acc-old','Acc-trns']].max()).T\n",
    "dfmax23=pd.DataFrame(walk23[['AccX','AccY','AccZ','Acc-old','Acc-trns']].max()).T\n",
    "dfmax24=pd.DataFrame(walk24[['AccX','AccY','AccZ','Acc-old','Acc-trns']].max()).T\n",
    "dfmax25=pd.DataFrame(walk25[['AccX','AccY','AccZ','Acc-old','Acc-trns']].max()).T\n",
    "dfmax26=pd.DataFrame(walk26[['AccX','AccY','AccZ','Acc-old','Acc-trns']].max()).T\n",
    "dfmax27=pd.DataFrame(walk27[['AccX','AccY','AccZ','Acc-old','Acc-trns']].max()).T\n",
    "dfmax28=pd.DataFrame(walk28[['AccX','AccY','AccZ','Acc-old','Acc-trns']].max()).T\n",
    "dfmax29=pd.DataFrame(walk29[['AccX','AccY','AccZ','Acc-old','Acc-trns']].max()).T\n",
    "dfmax30=pd.DataFrame(walk30[['AccX','AccY','AccZ','Acc-old','Acc-trns']].max()).T"
   ]
  },
  {
   "cell_type": "code",
   "execution_count": null,
   "metadata": {},
   "outputs": [],
   "source": [
    "Minwalk=dfmin1.append(dfmin2)\n",
    "Minwalk=Minwalk.append(dfmin3)\n",
    "Minwalk=Minwalk.append(dfmin4)\n",
    "Minwalk=Minwalk.append(dfmin5)\n",
    "Minwalk=Minwalk.append(dfmin6)\n",
    "Minwalk=Minwalk.append(dfmin7)\n",
    "Minwalk=Minwalk.append(dfmin8)\n",
    "Minwalk=Minwalk.append(dfmin9)\n",
    "Minwalk=Minwalk.append(dfmin10)\n",
    "\n",
    "Minwalk=Minwalk.append(dfmin11)\n",
    "Minwalk=Minwalk.append(dfmin12)\n",
    "Minwalk=Minwalk.append(dfmin13)\n",
    "Minwalk=Minwalk.append(dfmin14)\n",
    "Minwalk=Minwalk.append(dfmin15)\n",
    "Minwalk=Minwalk.append(dfmin16)\n",
    "Minwalk=Minwalk.append(dfmin17)\n",
    "Minwalk=Minwalk.append(dfmin18)\n",
    "Minwalk=Minwalk.append(dfmin19)\n",
    "Minwalk=Minwalk.append(dfmin20)\n",
    "\n",
    "Minwalk=Minwalk.append(dfmin21)\n",
    "Minwalk=Minwalk.append(dfmin22)\n",
    "Minwalk=Minwalk.append(dfmin23)\n",
    "Minwalk=Minwalk.append(dfmin24)\n",
    "Minwalk=Minwalk.append(dfmin25)\n",
    "Minwalk=Minwalk.append(dfmin26)\n",
    "Minwalk=Minwalk.append(dfmin27)\n",
    "Minwalk=Minwalk.append(dfmin28)\n",
    "Minwalk=Minwalk.append(dfmin29)\n",
    "Minwalk=Minwalk.append(dfmin30)"
   ]
  },
  {
   "cell_type": "code",
   "execution_count": null,
   "metadata": {},
   "outputs": [],
   "source": [
    "Maxwalk=dfmax1.append(dfmax2)\n",
    "Maxwalk=Maxwalk.append(dfmax3)\n",
    "Maxwalk=Maxwalk.append(dfmax4)\n",
    "Maxwalk=Maxwalk.append(dfmax5)\n",
    "Maxwalk=Maxwalk.append(dfmax6)\n",
    "Maxwalk=Maxwalk.append(dfmax7)\n",
    "Maxwalk=Maxwalk.append(dfmax8)\n",
    "Maxwalk=Maxwalk.append(dfmax9)\n",
    "Maxwalk=Maxwalk.append(dfmax10)\n",
    "\n",
    "Maxwalk=Maxwalk.append(dfmax11)\n",
    "Maxwalk=Maxwalk.append(dfmax12)\n",
    "Maxwalk=Maxwalk.append(dfmax13)\n",
    "Maxwalk=Maxwalk.append(dfmax14)\n",
    "Maxwalk=Maxwalk.append(dfmax15)\n",
    "Maxwalk=Maxwalk.append(dfmax16)\n",
    "Maxwalk=Maxwalk.append(dfmax17)\n",
    "Maxwalk=Maxwalk.append(dfmax18)\n",
    "Maxwalk=Maxwalk.append(dfmax19)\n",
    "Maxwalk=Maxwalk.append(dfmax20)\n",
    "\n",
    "Maxwalk=Maxwalk.append(dfmax21)\n",
    "Maxwalk=Maxwalk.append(dfmax22)\n",
    "Maxwalk=Maxwalk.append(dfmax23)\n",
    "Maxwalk=Maxwalk.append(dfmax24)\n",
    "Maxwalk=Maxwalk.append(dfmax25)\n",
    "Maxwalk=Maxwalk.append(dfmax26)\n",
    "Maxwalk=Maxwalk.append(dfmax27)\n",
    "Maxwalk=Maxwalk.append(dfmax28)\n",
    "Maxwalk=Maxwalk.append(dfmax29)\n",
    "Maxwalk=Maxwalk.append(dfmax30)"
   ]
  },
  {
   "cell_type": "code",
   "execution_count": null,
   "metadata": {},
   "outputs": [],
   "source": [
    "Meanwalk=df.append(df2)\n",
    "Meanwalk=Meanwalk.append(df3)\n",
    "Meanwalk=Meanwalk.append(df4)\n",
    "Meanwalk=Meanwalk.append(df5)\n",
    "Meanwalk=Meanwalk.append(df6)\n",
    "Meanwalk=Meanwalk.append(df7)\n",
    "Meanwalk=Meanwalk.append(df8)\n",
    "Meanwalk=Meanwalk.append(df9)\n",
    "Meanwalk=Meanwalk.append(df10)\n",
    "\n",
    "Meanwalk=Meanwalk.append(df11)\n",
    "Meanwalk=Meanwalk.append(df12)\n",
    "Meanwalk=Meanwalk.append(df13)\n",
    "Meanwalk=Meanwalk.append(df14)\n",
    "Meanwalk=Meanwalk.append(df15)\n",
    "Meanwalk=Meanwalk.append(df16)\n",
    "Meanwalk=Meanwalk.append(df17)\n",
    "Meanwalk=Meanwalk.append(df18)\n",
    "Meanwalk=Meanwalk.append(df19)\n",
    "Meanwalk=Meanwalk.append(df20)\n",
    "\n",
    "Meanwalk=Meanwalk.append(df21)\n",
    "Meanwalk=Meanwalk.append(df22)\n",
    "Meanwalk=Meanwalk.append(df23)\n",
    "Meanwalk=Meanwalk.append(df24)\n",
    "Meanwalk=Meanwalk.append(df25)\n",
    "Meanwalk=Meanwalk.append(df26)\n",
    "Meanwalk=Meanwalk.append(df27)\n",
    "Meanwalk=Meanwalk.append(df28)\n",
    "Meanwalk=Meanwalk.append(df29)\n",
    "Meanwalk=Meanwalk.append(df30)"
   ]
  },
  {
   "cell_type": "code",
   "execution_count": null,
   "metadata": {},
   "outputs": [],
   "source": [
    "Minwalk.columns=['min1AccX','min1AccY','min1AccZ','min1Acc-old','min1Acc-turns']\n",
    "Maxwalk.columns=['max1AccX','max1AccY','max1AccZ','max1Acc-old','max1Acc-turns']\n",
    "Meanwalk.columns=['mean1AccX','mean1AccY','mean1AccZ','mean1Acc-old','mean1Acc-turns']"
   ]
  },
  {
   "cell_type": "code",
   "execution_count": null,
   "metadata": {},
   "outputs": [],
   "source": [
    "Meanwalk['min1AccX']=Minwalk['min1AccX']\n",
    "Meanwalk['min1AccY']=Minwalk['min1AccY']\n",
    "Meanwalk['min1AccZ']=Minwalk['min1AccZ']\n",
    "Meanwalk['min1Acc-old']=Minwalk['min1Acc-old']\n",
    "Meanwalk['min1Acc-turns']=Minwalk['min1Acc-turns']\n",
    "Meanwalk['max1AccX']=Maxwalk['max1AccX']\n",
    "Meanwalk['max1AccY']=Maxwalk['max1AccY']\n",
    "Meanwalk['max1AccZ']=Maxwalk['max1AccZ']\n",
    "Meanwalk['max1Acc-old']=Maxwalk['max1Acc-old']\n",
    "Meanwalk['max1Acc-turns']=Maxwalk['max1Acc-turns']\n",
    "Meanwalk\n",
    "Meanwalk.to_csv(\"data/readyToTrain/walking\")"
   ]
  },
  {
   "cell_type": "code",
   "execution_count": null,
   "metadata": {},
   "outputs": [],
   "source": [
    "Meanwalk.index = Meanwalk.index.map(str)"
   ]
  },
  {
   "cell_type": "code",
   "execution_count": null,
   "metadata": {},
   "outputs": [],
   "source": [
    "indexNamesArr2 = Meanwalk.index.values"
   ]
  },
  {
   "cell_type": "code",
   "execution_count": null,
   "metadata": {},
   "outputs": [],
   "source": [
    "for i in range(30):\n",
    "    indexNamesArr2[i] = 'Walking{}'.format(i+1)"
   ]
  },
  {
   "cell_type": "code",
   "execution_count": null,
   "metadata": {},
   "outputs": [],
   "source": [
    "data=Meanstanding.append(Meanwalk)\n",
    "data"
   ]
  },
  {
   "cell_type": "code",
   "execution_count": null,
   "metadata": {},
   "outputs": [],
   "source": []
  },
  {
   "cell_type": "code",
   "execution_count": null,
   "metadata": {},
   "outputs": [],
   "source": []
  },
  {
   "cell_type": "code",
   "execution_count": null,
   "metadata": {},
   "outputs": [],
   "source": [
    "run1= pd.read_csv((\"data/cleaned/running/running1.csv\"), sep = ';')\n",
    "run2= pd.read_csv((\"data/cleaned/running/running2.csv\"), sep = ';')\n",
    "run3= pd.read_csv((\"data/cleaned/running/running3.csv\"), sep = ';')\n",
    "run4= pd.read_csv((\"data/cleaned/running/running4.csv\"), sep = ';')\n",
    "run5= pd.read_csv((\"data/cleaned/running/running5.csv\"), sep = ';')\n",
    "run6= pd.read_csv((\"data/cleaned/running/running6.csv\"), sep = ';')\n",
    "run7= pd.read_csv((\"data/cleaned/running/running7.csv\"), sep = ';')\n",
    "run8= pd.read_csv((\"data/cleaned/running/running8.csv\"), sep = ';')\n",
    "run9= pd.read_csv((\"data/cleaned/running/running9.csv\"), sep = ';')\n",
    "run10= pd.read_csv((\"data/cleaned/running/running10.csv\"), sep = ';')\n",
    "\n",
    "run11= pd.read_csv((\"data/cleaned/running/running11.csv\"), sep = ';')\n",
    "run12= pd.read_csv((\"data/cleaned/running/running12.csv\"), sep = ';')\n",
    "run13= pd.read_csv((\"data/cleaned/running/running13.csv\"), sep = ';')\n",
    "run14= pd.read_csv((\"data/cleaned/running/running14.csv\"), sep = ';')\n",
    "run15= pd.read_csv((\"data/cleaned/running/running15.csv\"), sep = ';')\n",
    "run16= pd.read_csv((\"data/cleaned/running/running16.csv\"), sep = ';')\n",
    "run17= pd.read_csv((\"data/cleaned/running/running17.csv\"), sep = ';')\n",
    "run18= pd.read_csv((\"data/cleaned/running/running18.csv\"), sep = ';')\n",
    "run19= pd.read_csv((\"data/cleaned/running/running19.csv\"), sep = ';')\n",
    "run20= pd.read_csv((\"data/cleaned/running/running20.csv\"), sep = ';')\n",
    "\n",
    "run21= pd.read_csv((\"data/cleaned/running/running21.csv\"), sep = ';')\n",
    "run22= pd.read_csv((\"data/cleaned/running/running22.csv\"), sep = ';')\n",
    "run23= pd.read_csv((\"data/cleaned/running/running23.csv\"), sep = ';')\n",
    "run24= pd.read_csv((\"data/cleaned/running/running24.csv\"), sep = ';')\n",
    "run25= pd.read_csv((\"data/cleaned/running/running25.csv\"), sep = ';')\n",
    "run26= pd.read_csv((\"data/cleaned/running/running26.csv\"), sep = ';')\n",
    "run27= pd.read_csv((\"data/cleaned/running/running27.csv\"), sep = ';')\n",
    "run28= pd.read_csv((\"data/cleaned/running/running28.csv\"), sep = ';')\n",
    "run29= pd.read_csv((\"data/cleaned/running/running29.csv\"), sep = ';')\n",
    "run30= pd.read_csv((\"data/cleaned/running/running30.csv\"), sep = ';')"
   ]
  },
  {
   "cell_type": "code",
   "execution_count": null,
   "metadata": {},
   "outputs": [],
   "source": [
    "df=pd.DataFrame(run1[['AccX','AccY','AccZ','Acc-old','Acc-trns']].mean()).T\n",
    "df2=pd.DataFrame(run2[['AccX','AccY','AccZ','Acc-old','Acc-trns']].mean()).T\n",
    "df3=pd.DataFrame(run3[['AccX','AccY','AccZ','Acc-old','Acc-trns']].mean()).T\n",
    "df4=pd.DataFrame(run4[['AccX','AccY','AccZ','Acc-old','Acc-trns']].mean()).T\n",
    "df5=pd.DataFrame(run5[['AccX','AccY','AccZ','Acc-old','Acc-trns']].mean()).T\n",
    "df6=pd.DataFrame(run6[['AccX','AccY','AccZ','Acc-old','Acc-trns']].mean()).T\n",
    "df7=pd.DataFrame(run7[['AccX','AccY','AccZ','Acc-old','Acc-trns']].mean()).T\n",
    "df8=pd.DataFrame(run8[['AccX','AccY','AccZ','Acc-old','Acc-trns']].mean()).T\n",
    "df9=pd.DataFrame(run9[['AccX','AccY','AccZ','Acc-old','Acc-trns']].mean()).T\n",
    "df10=pd.DataFrame(run10[['AccX','AccY','AccZ','Acc-old','Acc-trns']].mean()).T\n",
    "\n",
    "df11=pd.DataFrame(run11[['AccX','AccY','AccZ','Acc-old','Acc-trns']].mean()).T\n",
    "df12=pd.DataFrame(run12[['AccX','AccY','AccZ','Acc-old','Acc-trns']].mean()).T\n",
    "df13=pd.DataFrame(run13[['AccX','AccY','AccZ','Acc-old','Acc-trns']].mean()).T\n",
    "df14=pd.DataFrame(run14[['AccX','AccY','AccZ','Acc-old','Acc-trns']].mean()).T\n",
    "df15=pd.DataFrame(run15[['AccX','AccY','AccZ','Acc-old','Acc-trns']].mean()).T\n",
    "df16=pd.DataFrame(run16[['AccX','AccY','AccZ','Acc-old','Acc-trns']].mean()).T\n",
    "df17=pd.DataFrame(run17[['AccX','AccY','AccZ','Acc-old','Acc-trns']].mean()).T\n",
    "df18=pd.DataFrame(run18[['AccX','AccY','AccZ','Acc-old','Acc-trns']].mean()).T\n",
    "df19=pd.DataFrame(run19[['AccX','AccY','AccZ','Acc-old','Acc-trns']].mean()).T\n",
    "df20=pd.DataFrame(run20[['AccX','AccY','AccZ','Acc-old','Acc-trns']].mean()).T\n",
    "\n",
    "df21=pd.DataFrame(run21[['AccX','AccY','AccZ','Acc-old','Acc-trns']].mean()).T\n",
    "df22=pd.DataFrame(run22[['AccX','AccY','AccZ','Acc-old','Acc-trns']].mean()).T\n",
    "df23=pd.DataFrame(run23[['AccX','AccY','AccZ','Acc-old','Acc-trns']].mean()).T\n",
    "df24=pd.DataFrame(run24[['AccX','AccY','AccZ','Acc-old','Acc-trns']].mean()).T\n",
    "df25=pd.DataFrame(run25[['AccX','AccY','AccZ','Acc-old','Acc-trns']].mean()).T\n",
    "df26=pd.DataFrame(run26[['AccX','AccY','AccZ','Acc-old','Acc-trns']].mean()).T\n",
    "df27=pd.DataFrame(run27[['AccX','AccY','AccZ','Acc-old','Acc-trns']].mean()).T\n",
    "df28=pd.DataFrame(run28[['AccX','AccY','AccZ','Acc-old','Acc-trns']].mean()).T\n",
    "df29=pd.DataFrame(run29[['AccX','AccY','AccZ','Acc-old','Acc-trns']].mean()).T\n",
    "df30=pd.DataFrame(run30[['AccX','AccY','AccZ','Acc-old','Acc-trns']].mean()).T"
   ]
  },
  {
   "cell_type": "code",
   "execution_count": null,
   "metadata": {},
   "outputs": [],
   "source": [
    "dfmin1=pd.DataFrame(run1[['AccX','AccY','AccZ','Acc-old','Acc-trns']].min()).T\n",
    "dfmin2=pd.DataFrame(run2[['AccX','AccY','AccZ','Acc-old','Acc-trns']].min()).T\n",
    "dfmin3=pd.DataFrame(run3[['AccX','AccY','AccZ','Acc-old','Acc-trns']].min()).T\n",
    "dfmin4=pd.DataFrame(run4[['AccX','AccY','AccZ','Acc-old','Acc-trns']].min()).T\n",
    "dfmin5=pd.DataFrame(run5[['AccX','AccY','AccZ','Acc-old','Acc-trns']].min()).T\n",
    "dfmin6=pd.DataFrame(run6[['AccX','AccY','AccZ','Acc-old','Acc-trns']].min()).T\n",
    "dfmin7=pd.DataFrame(run7[['AccX','AccY','AccZ','Acc-old','Acc-trns']].min()).T\n",
    "dfmin8=pd.DataFrame(run8[['AccX','AccY','AccZ','Acc-old','Acc-trns']].min()).T\n",
    "dfmin9=pd.DataFrame(run9[['AccX','AccY','AccZ','Acc-old','Acc-trns']].min()).T\n",
    "dfmin10=pd.DataFrame(run10[['AccX','AccY','AccZ','Acc-old','Acc-trns']].min()).T\n",
    "\n",
    "dfmin11=pd.DataFrame(run11[['AccX','AccY','AccZ','Acc-old','Acc-trns']].min()).T\n",
    "dfmin12=pd.DataFrame(run12[['AccX','AccY','AccZ','Acc-old','Acc-trns']].min()).T\n",
    "dfmin13=pd.DataFrame(run13[['AccX','AccY','AccZ','Acc-old','Acc-trns']].min()).T\n",
    "dfmin14=pd.DataFrame(run14[['AccX','AccY','AccZ','Acc-old','Acc-trns']].min()).T\n",
    "dfmin15=pd.DataFrame(run15[['AccX','AccY','AccZ','Acc-old','Acc-trns']].min()).T\n",
    "dfmin16=pd.DataFrame(run16[['AccX','AccY','AccZ','Acc-old','Acc-trns']].min()).T\n",
    "dfmin17=pd.DataFrame(run17[['AccX','AccY','AccZ','Acc-old','Acc-trns']].min()).T\n",
    "dfmin18=pd.DataFrame(run18[['AccX','AccY','AccZ','Acc-old','Acc-trns']].min()).T\n",
    "dfmin19=pd.DataFrame(run19[['AccX','AccY','AccZ','Acc-old','Acc-trns']].min()).T\n",
    "dfmin20=pd.DataFrame(run20[['AccX','AccY','AccZ','Acc-old','Acc-trns']].min()).T\n",
    "\n",
    "dfmin21=pd.DataFrame(run21[['AccX','AccY','AccZ','Acc-old','Acc-trns']].min()).T\n",
    "dfmin22=pd.DataFrame(run22[['AccX','AccY','AccZ','Acc-old','Acc-trns']].min()).T\n",
    "dfmin23=pd.DataFrame(run23[['AccX','AccY','AccZ','Acc-old','Acc-trns']].min()).T\n",
    "dfmin24=pd.DataFrame(run24[['AccX','AccY','AccZ','Acc-old','Acc-trns']].min()).T\n",
    "dfmin25=pd.DataFrame(run25[['AccX','AccY','AccZ','Acc-old','Acc-trns']].min()).T\n",
    "dfmin26=pd.DataFrame(run26[['AccX','AccY','AccZ','Acc-old','Acc-trns']].min()).T\n",
    "dfmin27=pd.DataFrame(run27[['AccX','AccY','AccZ','Acc-old','Acc-trns']].min()).T\n",
    "dfmin28=pd.DataFrame(run28[['AccX','AccY','AccZ','Acc-old','Acc-trns']].min()).T\n",
    "dfmin29=pd.DataFrame(run29[['AccX','AccY','AccZ','Acc-old','Acc-trns']].min()).T\n",
    "dfmin30=pd.DataFrame(run30[['AccX','AccY','AccZ','Acc-old','Acc-trns']].min()).T"
   ]
  },
  {
   "cell_type": "code",
   "execution_count": null,
   "metadata": {},
   "outputs": [],
   "source": [
    "dfmax1=pd.DataFrame(run1[['AccX','AccY','AccZ','Acc-old','Acc-trns']].max()).T\n",
    "dfmax2=pd.DataFrame(run2[['AccX','AccY','AccZ','Acc-old','Acc-trns']].max()).T\n",
    "dfmax3=pd.DataFrame(run3[['AccX','AccY','AccZ','Acc-old','Acc-trns']].max()).T\n",
    "dfmax4=pd.DataFrame(run4[['AccX','AccY','AccZ','Acc-old','Acc-trns']].max()).T\n",
    "dfmax5=pd.DataFrame(run5[['AccX','AccY','AccZ','Acc-old','Acc-trns']].max()).T\n",
    "dfmax6=pd.DataFrame(run6[['AccX','AccY','AccZ','Acc-old','Acc-trns']].max()).T\n",
    "dfmax7=pd.DataFrame(run7[['AccX','AccY','AccZ','Acc-old','Acc-trns']].max()).T\n",
    "dfmax8=pd.DataFrame(run8[['AccX','AccY','AccZ','Acc-old','Acc-trns']].max()).T\n",
    "dfmax9=pd.DataFrame(run9[['AccX','AccY','AccZ','Acc-old','Acc-trns']].max()).T\n",
    "dfmax10=pd.DataFrame(run10[['AccX','AccY','AccZ','Acc-old','Acc-trns']].max()).T\n",
    "\n",
    "dfmax11=pd.DataFrame(run11[['AccX','AccY','AccZ','Acc-old','Acc-trns']].max()).T\n",
    "dfmax12=pd.DataFrame(run12[['AccX','AccY','AccZ','Acc-old','Acc-trns']].max()).T\n",
    "dfmax13=pd.DataFrame(run13[['AccX','AccY','AccZ','Acc-old','Acc-trns']].max()).T\n",
    "dfmax14=pd.DataFrame(run14[['AccX','AccY','AccZ','Acc-old','Acc-trns']].max()).T\n",
    "dfmax15=pd.DataFrame(run15[['AccX','AccY','AccZ','Acc-old','Acc-trns']].max()).T\n",
    "dfmax16=pd.DataFrame(run16[['AccX','AccY','AccZ','Acc-old','Acc-trns']].max()).T\n",
    "dfmax17=pd.DataFrame(run17[['AccX','AccY','AccZ','Acc-old','Acc-trns']].max()).T\n",
    "dfmax18=pd.DataFrame(run18[['AccX','AccY','AccZ','Acc-old','Acc-trns']].max()).T\n",
    "dfmax19=pd.DataFrame(run19[['AccX','AccY','AccZ','Acc-old','Acc-trns']].max()).T\n",
    "dfmax20=pd.DataFrame(run20[['AccX','AccY','AccZ','Acc-old','Acc-trns']].max()).T\n",
    "\n",
    "dfmax21=pd.DataFrame(run21[['AccX','AccY','AccZ','Acc-old','Acc-trns']].max()).T\n",
    "dfmax22=pd.DataFrame(run22[['AccX','AccY','AccZ','Acc-old','Acc-trns']].max()).T\n",
    "dfmax23=pd.DataFrame(run23[['AccX','AccY','AccZ','Acc-old','Acc-trns']].max()).T\n",
    "dfmax24=pd.DataFrame(run24[['AccX','AccY','AccZ','Acc-old','Acc-trns']].max()).T\n",
    "dfmax25=pd.DataFrame(run25[['AccX','AccY','AccZ','Acc-old','Acc-trns']].max()).T\n",
    "dfmax26=pd.DataFrame(run26[['AccX','AccY','AccZ','Acc-old','Acc-trns']].max()).T\n",
    "dfmax27=pd.DataFrame(run27[['AccX','AccY','AccZ','Acc-old','Acc-trns']].max()).T\n",
    "dfmax28=pd.DataFrame(run28[['AccX','AccY','AccZ','Acc-old','Acc-trns']].max()).T\n",
    "dfmax29=pd.DataFrame(run29[['AccX','AccY','AccZ','Acc-old','Acc-trns']].max()).T\n",
    "dfmax30=pd.DataFrame(run30[['AccX','AccY','AccZ','Acc-old','Acc-trns']].max()).T"
   ]
  },
  {
   "cell_type": "code",
   "execution_count": null,
   "metadata": {},
   "outputs": [],
   "source": [
    "Meanrun=df.append(df2)\n",
    "Meanrun=Meanrun.append(df3)\n",
    "Meanrun=Meanrun.append(df4)\n",
    "Meanrun=Meanrun.append(df5)\n",
    "Meanrun=Meanrun.append(df6)\n",
    "Meanrun=Meanrun.append(df7)\n",
    "Meanrun=Meanrun.append(df8)\n",
    "Meanrun=Meanrun.append(df9)\n",
    "Meanrun=Meanrun.append(df10)\n",
    "\n",
    "Meanrun=Meanrun.append(df11)\n",
    "Meanrun=Meanrun.append(df12)\n",
    "Meanrun=Meanrun.append(df13)\n",
    "Meanrun=Meanrun.append(df14)\n",
    "Meanrun=Meanrun.append(df15)\n",
    "Meanrun=Meanrun.append(df16)\n",
    "Meanrun=Meanrun.append(df17)\n",
    "Meanrun=Meanrun.append(df18)\n",
    "Meanrun=Meanrun.append(df19)\n",
    "Meanrun=Meanrun.append(df20)\n",
    "\n",
    "Meanrun=Meanrun.append(df21)\n",
    "Meanrun=Meanrun.append(df22)\n",
    "Meanrun=Meanrun.append(df23)\n",
    "Meanrun=Meanrun.append(df24)\n",
    "Meanrun=Meanrun.append(df25)\n",
    "Meanrun=Meanrun.append(df26)\n",
    "Meanrun=Meanrun.append(df27)\n",
    "Meanrun=Meanrun.append(df28)\n",
    "Meanrun=Meanrun.append(df29)\n",
    "Meanrun=Meanrun.append(df30)"
   ]
  },
  {
   "cell_type": "code",
   "execution_count": null,
   "metadata": {},
   "outputs": [],
   "source": [
    "Minrun=dfmin1.append(dfmin2)\n",
    "Minrun=Minrun.append(dfmin3)\n",
    "Minrun=Minrun.append(dfmin4)\n",
    "Minrun=Minrun.append(dfmin5)\n",
    "Minrun=Minrun.append(dfmin6)\n",
    "Minrun=Minrun.append(dfmin7)\n",
    "Minrun=Minrun.append(dfmin8)\n",
    "Minrun=Minrun.append(dfmin9)\n",
    "Minrun=Minrun.append(dfmin10)\n",
    "\n",
    "Minrun=Minrun.append(dfmin11)\n",
    "Minrun=Minrun.append(dfmin12)\n",
    "Minrun=Minrun.append(dfmin13)\n",
    "Minrun=Minrun.append(dfmin14)\n",
    "Minrun=Minrun.append(dfmin15)\n",
    "Minrun=Minrun.append(dfmin16)\n",
    "Minrun=Minrun.append(dfmin17)\n",
    "Minrun=Minrun.append(dfmin18)\n",
    "Minrun=Minrun.append(dfmin19)\n",
    "Minrun=Minrun.append(dfmin20)\n",
    "\n",
    "Minrun=Minrun.append(dfmin21)\n",
    "Minrun=Minrun.append(dfmin22)\n",
    "Minrun=Minrun.append(dfmin23)\n",
    "Minrun=Minrun.append(dfmin24)\n",
    "Minrun=Minrun.append(dfmin25)\n",
    "Minrun=Minrun.append(dfmin26)\n",
    "Minrun=Minrun.append(dfmin27)\n",
    "Minrun=Minrun.append(dfmin28)\n",
    "Minrun=Minrun.append(dfmin29)\n",
    "Minrun=Minrun.append(dfmin30)"
   ]
  },
  {
   "cell_type": "code",
   "execution_count": null,
   "metadata": {},
   "outputs": [],
   "source": [
    "Maxrun=dfmax1.append(dfmax2)\n",
    "Maxrun=Maxrun.append(dfmax3)\n",
    "Maxrun=Maxrun.append(dfmax4)\n",
    "Maxrun=Maxrun.append(dfmax5)\n",
    "Maxrun=Maxrun.append(dfmax6)\n",
    "Maxrun=Maxrun.append(dfmax7)\n",
    "Maxrun=Maxrun.append(dfmax8)\n",
    "Maxrun=Maxrun.append(dfmax9)\n",
    "Maxrun=Maxrun.append(dfmax10)\n",
    "\n",
    "Maxrun=Maxrun.append(dfmax11)\n",
    "Maxrun=Maxrun.append(dfmax12)\n",
    "Maxrun=Maxrun.append(dfmax13)\n",
    "Maxrun=Maxrun.append(dfmax14)\n",
    "Maxrun=Maxrun.append(dfmax15)\n",
    "Maxrun=Maxrun.append(dfmax16)\n",
    "Maxrun=Maxrun.append(dfmax17)\n",
    "Maxrun=Maxrun.append(dfmax18)\n",
    "Maxrun=Maxrun.append(dfmax19)\n",
    "Maxrun=Maxrun.append(dfmax20)\n",
    "\n",
    "Maxrun=Maxrun.append(dfmax21)\n",
    "Maxrun=Maxrun.append(dfmax22)\n",
    "Maxrun=Maxrun.append(dfmax23)\n",
    "Maxrun=Maxrun.append(dfmax24)\n",
    "Maxrun=Maxrun.append(dfmax25)\n",
    "Maxrun=Maxrun.append(dfmax26)\n",
    "Maxrun=Maxrun.append(dfmax27)\n",
    "Maxrun=Maxrun.append(dfmax28)\n",
    "Maxrun=Maxrun.append(dfmax29)\n",
    "Maxrun=Maxrun.append(dfmax30)"
   ]
  },
  {
   "cell_type": "code",
   "execution_count": null,
   "metadata": {},
   "outputs": [],
   "source": [
    "Minrun.columns=['min1AccX','min1AccY','min1AccZ','min1Acc-old','min1Acc-turns']\n",
    "Maxrun.columns=['max1AccX','max1AccY','max1AccZ','max1Acc-old','max1Acc-turns']\n",
    "Meanrun.columns=['mean1AccX','mean1AccY','mean1AccZ','mean1Acc-old','mean1Acc-turns']"
   ]
  },
  {
   "cell_type": "code",
   "execution_count": null,
   "metadata": {},
   "outputs": [],
   "source": [
    "Meanrun['min1AccX']=Minrun['min1AccX']\n",
    "Meanrun['min1AccY']=Minrun['min1AccY']\n",
    "Meanrun['min1AccZ']=Minrun['min1AccZ']\n",
    "Meanrun['min1Acc-old']=Minrun['min1Acc-old']\n",
    "Meanrun['min1Acc-turns']=Minrun['min1Acc-turns']\n",
    "Meanrun['max1AccX']=Maxrun['max1AccX']\n",
    "Meanrun['max1AccY']=Maxrun['max1AccY']\n",
    "Meanrun['max1AccZ']=Maxrun['max1AccZ']\n",
    "Meanrun['max1Acc-old']=Maxrun['max1Acc-old']\n",
    "Meanrun['max1Acc-turns']=Maxrun['max1Acc-turns']\n",
    "Meanrun\n",
    "Meanrun.to_csv(\"data/readyToTrain/running\")"
   ]
  },
  {
   "cell_type": "code",
   "execution_count": null,
   "metadata": {},
   "outputs": [],
   "source": [
    "Meanrun.index = Meanrun.index.map(str)"
   ]
  },
  {
   "cell_type": "code",
   "execution_count": null,
   "metadata": {},
   "outputs": [],
   "source": [
    "indexNamesArr3 = Meanrun.index.values"
   ]
  },
  {
   "cell_type": "code",
   "execution_count": null,
   "metadata": {},
   "outputs": [],
   "source": [
    "for i in range(30):\n",
    "    indexNamesArr3[i] = 'Running{}'.format(i+1)\n",
    "Meanrun"
   ]
  },
  {
   "cell_type": "code",
   "execution_count": null,
   "metadata": {},
   "outputs": [],
   "source": [
    "data=data.append(Meanrun)\n",
    "# data.to_csv(\"data/cleaned/mean\")"
   ]
  },
  {
   "cell_type": "code",
   "execution_count": null,
   "metadata": {},
   "outputs": [],
   "source": [
    "data"
   ]
  },
  {
   "cell_type": "code",
   "execution_count": null,
   "metadata": {},
   "outputs": [],
   "source": [
    "Meanwalk['mean1Acc-turns'].plot()\n",
    "#to analyze peak values in data"
   ]
  },
  {
   "cell_type": "code",
   "execution_count": null,
   "metadata": {},
   "outputs": [],
   "source": [
    "Meanrun['mean1Acc-turns'].plot()\n",
    "#To analyze peak values in data"
   ]
  },
  {
   "cell_type": "code",
   "execution_count": null,
   "metadata": {},
   "outputs": [],
   "source": [
    "Meanstanding['mean1Acc-turns'].plot()\n",
    "#To Analyze peak values in data"
   ]
  },
  {
   "cell_type": "code",
   "execution_count": null,
   "metadata": {},
   "outputs": [],
   "source": [
    "Meanwalk['mean1Acc-turns'].plot.box()"
   ]
  },
  {
   "cell_type": "code",
   "execution_count": null,
   "metadata": {},
   "outputs": [],
   "source": [
    "Meanrun['mean1Acc-turns'].plot.box()"
   ]
  },
  {
   "cell_type": "code",
   "execution_count": null,
   "metadata": {},
   "outputs": [],
   "source": [
    "Meanstanding['mean1Acc-turns'].plot.box()"
   ]
  },
  {
   "cell_type": "code",
   "execution_count": null,
   "metadata": {},
   "outputs": [],
   "source": []
  },
  {
   "cell_type": "code",
   "execution_count": null,
   "metadata": {},
   "outputs": [],
   "source": []
  },
  {
   "cell_type": "code",
   "execution_count": null,
   "metadata": {},
   "outputs": [],
   "source": [
    "#Let's analyze the distribution of data to check if it is normal or not"
   ]
  },
  {
   "cell_type": "code",
   "execution_count": null,
   "metadata": {},
   "outputs": [],
   "source": [
    "#walking\n",
    "print(stats.normaltest(Meanwalk['mean1Acc-turns']).pvalue)\n",
    "print(stats.normaltest(Meanrun['mean1Acc-turns']).pvalue)\n",
    "print(stats.normaltest(Meanstanding['mean1Acc-turns']).pvalue)\n"
   ]
  },
  {
   "cell_type": "code",
   "execution_count": null,
   "metadata": {},
   "outputs": [],
   "source": [
    "##walking histogram\n",
    "plt.hist(Meanwalk['mean1Acc-turns'], bins=4)\n",
    "plt.ylabel('No of times')\n",
    "plt.xlabel('Mean-Acceleration(waalking)')\n",
    "#Right skewed\n"
   ]
  },
  {
   "cell_type": "code",
   "execution_count": null,
   "metadata": {},
   "outputs": [],
   "source": [
    "plt.hist(Meanrun['mean1Acc-turns'], bins=4)\n",
    "plt.ylabel('No of times')\n",
    "plt.xlabel('Mean-Accelereration(running)')\n",
    "#right skewed"
   ]
  },
  {
   "cell_type": "code",
   "execution_count": null,
   "metadata": {},
   "outputs": [],
   "source": [
    "plt.hist(Meanstanding['mean1Acc-turns'], bins=3)\n",
    "plt.ylabel('No of times')\n",
    "plt.xlabel('Mean-Accelereration(standing)')\n",
    "#right skewed"
   ]
  },
  {
   "cell_type": "code",
   "execution_count": null,
   "metadata": {},
   "outputs": [],
   "source": [
    "print(stats.levene(Meanwalk['mean1Acc-turns'], Meanstanding['mean1Acc-turns'],Meanrun['mean1Acc-turns']).pvalue)\n",
    "##variance not equal"
   ]
  },
  {
   "cell_type": "markdown",
   "metadata": {},
   "source": [
    "# ANOVA"
   ]
  },
  {
   "cell_type": "code",
   "execution_count": null,
   "metadata": {},
   "outputs": [],
   "source": [
    "anova = stats.f_oneway(Meanstanding['mean1Acc-turns'],Meanwalk['mean1Acc-turns'],Meanrun['mean1Acc-turns'])\n",
    "print(anova)\n",
    "print(anova.pvalue)"
   ]
  },
  {
   "cell_type": "markdown",
   "metadata": {},
   "source": [
    "# POST-HOC"
   ]
  },
  {
   "cell_type": "code",
   "execution_count": null,
   "metadata": {},
   "outputs": [],
   "source": [
    "x_data = pd.DataFrame({'Walking': Meanwalk['mean1Acc-turns'], 'Standing': Meanstanding['mean1Acc-turns'], 'Running': Meanrun['mean1Acc-turns']})\n",
    "x_melt = pd.melt(x_data).dropna()\n",
    "posthoc = pairwise_tukeyhsd(\n",
    "    x_melt['value'], x_melt['variable'],\n",
    "    alpha=0.05)\n",
    "print(posthoc)\n"
   ]
  },
  {
   "cell_type": "code",
   "execution_count": null,
   "metadata": {},
   "outputs": [],
   "source": [
    "fig = posthoc.plot_simultaneous()"
   ]
  },
  {
   "cell_type": "code",
   "execution_count": null,
   "metadata": {},
   "outputs": [],
   "source": [
    "print(stats.mannwhitneyu(Meanwalk['mean1Acc-turns'], Meanstanding['mean1Acc-turns'], alternative='two-sided').pvalue)"
   ]
  },
  {
   "cell_type": "code",
   "execution_count": null,
   "metadata": {},
   "outputs": [],
   "source": [
    "print(stats.mannwhitneyu(Meanwalk['mean1Acc-turns'], Meanrun['mean1Acc-turns'], alternative='two-sided').pvalue)"
   ]
  },
  {
   "cell_type": "code",
   "execution_count": null,
   "metadata": {},
   "outputs": [],
   "source": [
    "print(stats.mannwhitneyu(Meanrun['mean1Acc-turns'], Meanstanding['mean1Acc-turns'], alternative='two-sided').pvalue)"
   ]
  },
  {
   "cell_type": "code",
   "execution_count": null,
   "metadata": {},
   "outputs": [],
   "source": [
    "print(stats.mannwhitneyu(Meanrun['mean1Acc-turns'], Meanwalk['mean1Acc-turns'], alternative='two-sided').pvalue)"
   ]
  },
  {
   "cell_type": "code",
   "execution_count": null,
   "metadata": {},
   "outputs": [],
   "source": [
    "print(stats.mannwhitneyu(Meanstanding['mean1Acc-turns'], Meanrun['mean1Acc-turns'], alternative='two-sided').pvalue)"
   ]
  },
  {
   "cell_type": "code",
   "execution_count": null,
   "metadata": {},
   "outputs": [],
   "source": [
    "print(stats.mannwhitneyu(Meanstanding['mean1Acc-turns'], Meanwalk['mean1Acc-turns'], alternative='two-sided').pvalue)"
   ]
  },
  {
   "cell_type": "code",
   "execution_count": null,
   "metadata": {},
   "outputs": [],
   "source": []
  }
 ],
 "metadata": {
  "kernelspec": {
   "display_name": "Python 3",
   "language": "python",
   "name": "python3"
  },
  "language_info": {
   "codemirror_mode": {
    "name": "ipython",
    "version": 3
   },
   "file_extension": ".py",
   "mimetype": "text/x-python",
   "name": "python",
   "nbconvert_exporter": "python",
   "pygments_lexer": "ipython3",
   "version": "3.7.9"
  }
 },
 "nbformat": 4,
 "nbformat_minor": 4
}
