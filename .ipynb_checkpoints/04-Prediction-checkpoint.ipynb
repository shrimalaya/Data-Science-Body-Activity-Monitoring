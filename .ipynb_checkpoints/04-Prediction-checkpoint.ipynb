{
 "cells": [
  {
   "cell_type": "code",
   "execution_count": 3,
   "metadata": {},
   "outputs": [],
   "source": [
    "from joblib import load\n",
    "import sys\n",
    "import numpy as np\n",
    "import pandas as pd\n",
    "from sklearn.ensemble import RandomForestClassifier\n"
   ]
  },
  {
   "cell_type": "markdown",
   "metadata": {},
   "source": [
    "# Model Load"
   ]
  },
  {
   "cell_type": "code",
   "execution_count": 28,
   "metadata": {},
   "outputs": [
    {
     "data": {
      "text/plain": [
       "Pipeline(steps=[('randomforestclassifier',\n",
       "                 RandomForestClassifier(max_depth=5, min_samples_leaf=2,\n",
       "                                        n_estimators=93))])"
      ]
     },
     "execution_count": 28,
     "metadata": {},
     "output_type": "execute_result"
    }
   ],
   "source": [
    "model = load('models/random_forest.joblib')\n",
    "model"
   ]
  },
  {
   "cell_type": "markdown",
   "metadata": {},
   "source": [
    "# Data Load"
   ]
  },
  {
   "cell_type": "code",
   "execution_count": 24,
   "metadata": {},
   "outputs": [
    {
     "data": {
      "text/html": [
       "<div>\n",
       "<style scoped>\n",
       "    .dataframe tbody tr th:only-of-type {\n",
       "        vertical-align: middle;\n",
       "    }\n",
       "\n",
       "    .dataframe tbody tr th {\n",
       "        vertical-align: top;\n",
       "    }\n",
       "\n",
       "    .dataframe thead th {\n",
       "        text-align: right;\n",
       "    }\n",
       "</style>\n",
       "<table border=\"1\" class=\"dataframe\">\n",
       "  <thead>\n",
       "    <tr style=\"text-align: right;\">\n",
       "      <th></th>\n",
       "      <th>time</th>\n",
       "      <th>gFx</th>\n",
       "      <th>gFy</th>\n",
       "      <th>gFz</th>\n",
       "      <th>acc</th>\n",
       "    </tr>\n",
       "  </thead>\n",
       "  <tbody>\n",
       "    <tr>\n",
       "      <th>0</th>\n",
       "      <td>53:25.6</td>\n",
       "      <td>-0.161</td>\n",
       "      <td>0.082</td>\n",
       "      <td>-0.931</td>\n",
       "      <td>0.948</td>\n",
       "    </tr>\n",
       "    <tr>\n",
       "      <th>1</th>\n",
       "      <td>53:25.6</td>\n",
       "      <td>-0.123</td>\n",
       "      <td>0.076</td>\n",
       "      <td>-1.075</td>\n",
       "      <td>1.085</td>\n",
       "    </tr>\n",
       "    <tr>\n",
       "      <th>2</th>\n",
       "      <td>53:25.7</td>\n",
       "      <td>-0.126</td>\n",
       "      <td>0.025</td>\n",
       "      <td>-1.160</td>\n",
       "      <td>1.167</td>\n",
       "    </tr>\n",
       "    <tr>\n",
       "      <th>3</th>\n",
       "      <td>53:25.7</td>\n",
       "      <td>-0.209</td>\n",
       "      <td>-0.021</td>\n",
       "      <td>-1.076</td>\n",
       "      <td>1.096</td>\n",
       "    </tr>\n",
       "    <tr>\n",
       "      <th>4</th>\n",
       "      <td>53:25.7</td>\n",
       "      <td>-0.334</td>\n",
       "      <td>0.194</td>\n",
       "      <td>-1.070</td>\n",
       "      <td>1.138</td>\n",
       "    </tr>\n",
       "    <tr>\n",
       "      <th>...</th>\n",
       "      <td>...</td>\n",
       "      <td>...</td>\n",
       "      <td>...</td>\n",
       "      <td>...</td>\n",
       "      <td>...</td>\n",
       "    </tr>\n",
       "    <tr>\n",
       "      <th>2197</th>\n",
       "      <td>53:57.3</td>\n",
       "      <td>0.084</td>\n",
       "      <td>-0.434</td>\n",
       "      <td>-0.954</td>\n",
       "      <td>1.051</td>\n",
       "    </tr>\n",
       "    <tr>\n",
       "      <th>2198</th>\n",
       "      <td>53:57.3</td>\n",
       "      <td>0.069</td>\n",
       "      <td>-0.425</td>\n",
       "      <td>-0.991</td>\n",
       "      <td>1.080</td>\n",
       "    </tr>\n",
       "    <tr>\n",
       "      <th>2199</th>\n",
       "      <td>53:57.3</td>\n",
       "      <td>0.047</td>\n",
       "      <td>-0.415</td>\n",
       "      <td>-0.998</td>\n",
       "      <td>1.082</td>\n",
       "    </tr>\n",
       "    <tr>\n",
       "      <th>2200</th>\n",
       "      <td>53:57.3</td>\n",
       "      <td>0.031</td>\n",
       "      <td>-0.405</td>\n",
       "      <td>-0.975</td>\n",
       "      <td>1.056</td>\n",
       "    </tr>\n",
       "    <tr>\n",
       "      <th>2201</th>\n",
       "      <td>53:57.3</td>\n",
       "      <td>0.019</td>\n",
       "      <td>-0.402</td>\n",
       "      <td>-0.945</td>\n",
       "      <td>1.027</td>\n",
       "    </tr>\n",
       "  </tbody>\n",
       "</table>\n",
       "<p>2202 rows × 5 columns</p>\n",
       "</div>"
      ],
      "text/plain": [
       "         time    gFx    gFy    gFz    acc\n",
       "0     53:25.6 -0.161  0.082 -0.931  0.948\n",
       "1     53:25.6 -0.123  0.076 -1.075  1.085\n",
       "2     53:25.7 -0.126  0.025 -1.160  1.167\n",
       "3     53:25.7 -0.209 -0.021 -1.076  1.096\n",
       "4     53:25.7 -0.334  0.194 -1.070  1.138\n",
       "...       ...    ...    ...    ...    ...\n",
       "2197  53:57.3  0.084 -0.434 -0.954  1.051\n",
       "2198  53:57.3  0.069 -0.425 -0.991  1.080\n",
       "2199  53:57.3  0.047 -0.415 -0.998  1.082\n",
       "2200  53:57.3  0.031 -0.405 -0.975  1.056\n",
       "2201  53:57.3  0.019 -0.402 -0.945  1.027\n",
       "\n",
       "[2202 rows x 5 columns]"
      ]
     },
     "execution_count": 24,
     "metadata": {},
     "output_type": "execute_result"
    }
   ],
   "source": [
    "filename = \"data/rawdata/walking/walk4.csv\"\n",
    "unclassified_data = pd.read_csv(filename)\n",
    "unclassified_data"
   ]
  },
  {
   "cell_type": "markdown",
   "metadata": {},
   "source": [
    "# Process Data"
   ]
  },
  {
   "cell_type": "code",
   "execution_count": 20,
   "metadata": {},
   "outputs": [],
   "source": [
    "# analysis.ipynb\n",
    "\n",
    "# statistics.ipynb"
   ]
  }
 ],
 "metadata": {
  "kernelspec": {
   "display_name": "Python 3",
   "language": "python",
   "name": "python3"
  },
  "language_info": {
   "codemirror_mode": {
    "name": "ipython",
    "version": 3
   },
   "file_extension": ".py",
   "mimetype": "text/x-python",
   "name": "python",
   "nbconvert_exporter": "python",
   "pygments_lexer": "ipython3",
   "version": "3.7.9"
  }
 },
 "nbformat": 4,
 "nbformat_minor": 4
}
