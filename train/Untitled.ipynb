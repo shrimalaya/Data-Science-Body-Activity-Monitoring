{
 "cells": [
  {
   "cell_type": "code",
   "execution_count": 1,
   "metadata": {},
   "outputs": [],
   "source": [
    "import numpy as np\n",
    "import pandas as pd\n"
   ]
  },
  {
   "cell_type": "code",
   "execution_count": 3,
   "metadata": {},
   "outputs": [],
   "source": [
    "walk1=pd.read_csv(\"cleaned/walk1.csv\")\n",
    "\n",
    "walk2=pd.read_csv(\"cleaned/walk2.csv\")\n",
    "\n",
    "walk3=pd.read_csv(\"cleaned/walk3.csv\")\n",
    "\n",
    "walk4=pd.read_csv(\"cleaned/walk4.csv\")\n",
    "\n",
    "walk5=pd.read_csv(\"cleaned/walk5.csv\")\n",
    "\n",
    "walk6=pd.read_csv(\"cleaned/walk6.csv\")\n",
    "\n",
    "walk7=pd.read_csv(\"cleaned/walk7.csv\")\n",
    "\n",
    "walk8=pd.read_csv(\"cleaned/walk8.csv\")\n",
    "\n",
    "walk9=pd.read_csv(\"cleaned/walk9.csv\")\n",
    "\n",
    "walk10=pd.read_csv(\"cleaned/walk10.csv\")\n"
   ]
  },
  {
   "cell_type": "code",
   "execution_count": 4,
   "metadata": {},
   "outputs": [
    {
     "data": {
      "text/html": [
       "<div>\n",
       "<style scoped>\n",
       "    .dataframe tbody tr th:only-of-type {\n",
       "        vertical-align: middle;\n",
       "    }\n",
       "\n",
       "    .dataframe tbody tr th {\n",
       "        vertical-align: top;\n",
       "    }\n",
       "\n",
       "    .dataframe thead th {\n",
       "        text-align: right;\n",
       "    }\n",
       "</style>\n",
       "<table border=\"1\" class=\"dataframe\">\n",
       "  <thead>\n",
       "    <tr style=\"text-align: right;\">\n",
       "      <th></th>\n",
       "      <th>Time;AccX;AccY;AccZ;Acc-old;Acc-trns</th>\n",
       "    </tr>\n",
       "  </thead>\n",
       "  <tbody>\n",
       "    <tr>\n",
       "      <th>0</th>\n",
       "      <td>50:58.7;-0.03405944429055476;-0.19310885194218...</td>\n",
       "    </tr>\n",
       "    <tr>\n",
       "      <th>1</th>\n",
       "      <td>50:58.7;-0.054152416936064776;-0.2176797228888...</td>\n",
       "    </tr>\n",
       "    <tr>\n",
       "      <th>2</th>\n",
       "      <td>50:58.7;-0.07224362761308101;-0.24060635272600...</td>\n",
       "    </tr>\n",
       "    <tr>\n",
       "      <th>3</th>\n",
       "      <td>50:58.8;-0.0868903947049437;-0.260312434039851...</td>\n",
       "    </tr>\n",
       "    <tr>\n",
       "      <th>4</th>\n",
       "      <td>50:58.8;-0.09681479039773745;-0.27580538086621...</td>\n",
       "    </tr>\n",
       "    <tr>\n",
       "      <th>...</th>\n",
       "      <td>...</td>\n",
       "    </tr>\n",
       "    <tr>\n",
       "      <th>1832</th>\n",
       "      <td>51:25.5;-0.13969852978690359;-0.45178592975912...</td>\n",
       "    </tr>\n",
       "    <tr>\n",
       "      <th>1833</th>\n",
       "      <td>51:25.5;-0.14644405464191088;-0.41964367906943...</td>\n",
       "    </tr>\n",
       "    <tr>\n",
       "      <th>1834</th>\n",
       "      <td>51:25.5;-0.15260517925303665;-0.38707726680982...</td>\n",
       "    </tr>\n",
       "    <tr>\n",
       "      <th>1835</th>\n",
       "      <td>51:25.5;-0.1580782615803545;-0.354912049805350...</td>\n",
       "    </tr>\n",
       "    <tr>\n",
       "      <th>1836</th>\n",
       "      <td>51:25.5;-0.16286528358758462;-0.32379828939310...</td>\n",
       "    </tr>\n",
       "  </tbody>\n",
       "</table>\n",
       "<p>1837 rows × 1 columns</p>\n",
       "</div>"
      ],
      "text/plain": [
       "                   Time;AccX;AccY;AccZ;Acc-old;Acc-trns\n",
       "0     50:58.7;-0.03405944429055476;-0.19310885194218...\n",
       "1     50:58.7;-0.054152416936064776;-0.2176797228888...\n",
       "2     50:58.7;-0.07224362761308101;-0.24060635272600...\n",
       "3     50:58.8;-0.0868903947049437;-0.260312434039851...\n",
       "4     50:58.8;-0.09681479039773745;-0.27580538086621...\n",
       "...                                                 ...\n",
       "1832  51:25.5;-0.13969852978690359;-0.45178592975912...\n",
       "1833  51:25.5;-0.14644405464191088;-0.41964367906943...\n",
       "1834  51:25.5;-0.15260517925303665;-0.38707726680982...\n",
       "1835  51:25.5;-0.1580782615803545;-0.354912049805350...\n",
       "1836  51:25.5;-0.16286528358758462;-0.32379828939310...\n",
       "\n",
       "[1837 rows x 1 columns]"
      ]
     },
     "execution_count": 4,
     "metadata": {},
     "output_type": "execute_result"
    }
   ],
   "source": []
  },
  {
   "cell_type": "code",
   "execution_count": null,
   "metadata": {},
   "outputs": [],
   "source": []
  }
 ],
 "metadata": {
  "kernelspec": {
   "display_name": "Python 3",
   "language": "python",
   "name": "python3"
  },
  "language_info": {
   "codemirror_mode": {
    "name": "ipython",
    "version": 3
   },
   "file_extension": ".py",
   "mimetype": "text/x-python",
   "name": "python",
   "nbconvert_exporter": "python",
   "pygments_lexer": "ipython3",
   "version": "3.7.6"
  }
 },
 "nbformat": 4,
 "nbformat_minor": 4
}
